{
 "cells": [
  {
   "cell_type": "code",
   "execution_count": 1,
   "id": "c0560cf5-eeec-487b-9eef-8ca6e345106b",
   "metadata": {},
   "outputs": [],
   "source": [
    "import numpy as np\n",
    "import pandas as pd\n",
    "import matplotlib.pyplot as plt\n",
    "from PNN import PNN\n",
    "from GRNN import GRNN\n",
    "from sklearn.linear_model import LinearRegression\n",
    "from sklearn.tree import DecisionTreeRegressor\n",
    "from sklearn.datasets import load_iris, load_diabetes, load_digits\n",
    "from torchvision.transforms import ToTensor\n",
    "from torchvision.datasets import FashionMNIST\n",
    "from torch import squeeze\n",
    "from sklearn.model_selection import train_test_split\n",
    "from sklearn.metrics import accuracy_score, r2_score"
   ]
  },
  {
   "cell_type": "markdown",
   "id": "316c869c-a4d4-4ebe-9685-16659be5eb56",
   "metadata": {},
   "source": [
    "### PNN example"
   ]
  },
  {
   "cell_type": "code",
   "execution_count": 3,
   "id": "c656fcc5-64e8-4cac-8166-f22ddf8d5b0c",
   "metadata": {},
   "outputs": [],
   "source": [
    "pnn = PNN(kernel=\"gaussian\", sigma=0.5, n_classes=3, losses=[1,1,1])"
   ]
  },
  {
   "cell_type": "code",
   "execution_count": 4,
   "id": "f92466f0-591e-4086-90b7-195e2b1e188c",
   "metadata": {},
   "outputs": [],
   "source": [
    "df = load_iris(as_frame=True)\n",
    "X = df['data'].to_numpy()\n",
    "y = df['target'].to_numpy()"
   ]
  },
  {
   "cell_type": "code",
   "execution_count": 5,
   "id": "fadd1bce-dbbb-43c3-a677-c4f9a3af5b24",
   "metadata": {},
   "outputs": [],
   "source": [
    "X_train, X_test, y_train, y_test = train_test_split(X, y, random_state=42, test_size=0.3)"
   ]
  },
  {
   "cell_type": "code",
   "execution_count": 6,
   "id": "798de34b-04e2-4fa7-9fcf-50f6b7de73e7",
   "metadata": {},
   "outputs": [
    {
     "name": "stdout",
     "output_type": "stream",
     "text": [
      "(105, 4)\n",
      "(45, 4)\n",
      "(105,)\n",
      "(45,)\n"
     ]
    }
   ],
   "source": [
    "print(X_train.shape)\n",
    "print(X_test.shape)\n",
    "\n",
    "print(y_train.shape)\n",
    "print(y_test.shape)"
   ]
  },
  {
   "cell_type": "code",
   "execution_count": 7,
   "id": "50c3a000-af4b-48c3-b78c-02dc6f3a24e8",
   "metadata": {},
   "outputs": [
    {
     "name": "stdout",
     "output_type": "stream",
     "text": [
      "[0 1 2]\n"
     ]
    }
   ],
   "source": [
    "pnn.fit(X_train, y_train)\n",
    "\n",
    "preds = [pnn.predict([x_test]) for x_test in X_test]"
   ]
  },
  {
   "cell_type": "code",
   "execution_count": 8,
   "id": "8ed3f1d0-b2cf-423e-bcd8-60f39a4a995a",
   "metadata": {},
   "outputs": [
    {
     "data": {
      "text/plain": [
       "1.0"
      ]
     },
     "execution_count": 8,
     "metadata": {},
     "output_type": "execute_result"
    }
   ],
   "source": [
    "accuracy_score(y_test, preds)"
   ]
  },
  {
   "cell_type": "markdown",
   "id": "5badfdd4-4a34-461e-b11c-5563c240440e",
   "metadata": {},
   "source": [
    "### GRNN example"
   ]
  },
  {
   "cell_type": "code",
   "execution_count": 17,
   "id": "47180d32-0d6f-4cb3-9508-6155dc4f5abb",
   "metadata": {},
   "outputs": [],
   "source": [
    "df = load_diabetes(as_frame=True)\n",
    "X = df['data'].to_numpy()\n",
    "y = df['target'].to_numpy()\n",
    "\n",
    "X_train, X_test, y_train, y_test = train_test_split(X, y, random_state=42, test_size=0.3)"
   ]
  },
  {
   "cell_type": "code",
   "execution_count": 19,
   "id": "cd3d761b-4267-4986-9cd4-79e142567fa5",
   "metadata": {},
   "outputs": [
    {
     "data": {
      "text/plain": [
       "0.03665635597596961"
      ]
     },
     "execution_count": 19,
     "metadata": {},
     "output_type": "execute_result"
    }
   ],
   "source": [
    "grnn = GRNN(kernel=\"gaussian\", sigma=0.4)\n",
    "grnn.fit(X_train, y_train)\n",
    "preds = [grnn.predict([x_test]) for x_test in X_test]\n",
    "r2_score(y_test, preds)"
   ]
  },
  {
   "cell_type": "code",
   "execution_count": 21,
   "id": "f145eb22-8106-4837-a619-5ed678a5761b",
   "metadata": {},
   "outputs": [
    {
     "data": {
      "text/plain": [
       "0.4772897164322617"
      ]
     },
     "execution_count": 21,
     "metadata": {},
     "output_type": "execute_result"
    }
   ],
   "source": [
    "lr = LinearRegression()\n",
    "\n",
    "lr.fit(X_train, y_train)\n",
    "preds = lr.predict(X_test)\n",
    "\n",
    "r2_score(y_test, preds)"
   ]
  },
  {
   "cell_type": "code",
   "execution_count": 23,
   "id": "885949c8-f2e5-4fe1-9569-be7be0aa5087",
   "metadata": {
    "scrolled": true
   },
   "outputs": [
    {
     "name": "stdout",
     "output_type": "stream",
     "text": [
      "--------------------------------------------------------------------------------\n",
      "Smoothing parameter:  0.02\n",
      "R2 score:  0.24918404093742763\n",
      "--------------------------------------------------------------------------------\n",
      "Smoothing parameter:  0.03\n",
      "R2 score:  0.3888858966517843\n",
      "--------------------------------------------------------------------------------\n",
      "Smoothing parameter:  0.039999999999999994\n",
      "R2 score:  0.441418052100256\n",
      "--------------------------------------------------------------------------------\n",
      "Smoothing parameter:  0.049999999999999996\n",
      "R2 score:  0.4459331944981647\n",
      "--------------------------------------------------------------------------------\n",
      "Smoothing parameter:  0.06\n",
      "R2 score:  0.4284587136100836\n",
      "--------------------------------------------------------------------------------\n",
      "Smoothing parameter:  0.06999999999999999\n",
      "R2 score:  0.4038364462109699\n",
      "--------------------------------------------------------------------------------\n",
      "Smoothing parameter:  0.07999999999999999\n",
      "R2 score:  0.3771157677971234\n",
      "--------------------------------------------------------------------------------\n",
      "Smoothing parameter:  0.09\n",
      "R2 score:  0.3500659016502701\n",
      "--------------------------------------------------------------------------------\n",
      "Smoothing parameter:  0.09999999999999999\n",
      "R2 score:  0.32352264574164136\n",
      "--------------------------------------------------------------------------------\n",
      "Smoothing parameter:  0.10999999999999999\n",
      "R2 score:  0.29799487747173126\n",
      "--------------------------------------------------------------------------------\n",
      "Smoothing parameter:  0.11999999999999998\n",
      "R2 score:  0.27382401456590066\n",
      "--------------------------------------------------------------------------------\n",
      "Smoothing parameter:  0.12999999999999998\n",
      "R2 score:  0.251227822566671\n",
      "--------------------------------------------------------------------------------\n",
      "Smoothing parameter:  0.13999999999999999\n",
      "R2 score:  0.23031970405969682\n",
      "--------------------------------------------------------------------------------\n",
      "Smoothing parameter:  0.14999999999999997\n",
      "R2 score:  0.21112768420277117\n",
      "--------------------------------------------------------------------------------\n",
      "Smoothing parameter:  0.15999999999999998\n",
      "R2 score:  0.1936155253393973\n",
      "--------------------------------------------------------------------------------\n",
      "Smoothing parameter:  0.16999999999999998\n",
      "R2 score:  0.17770317276962455\n",
      "--------------------------------------------------------------------------------\n",
      "Smoothing parameter:  0.17999999999999997\n",
      "R2 score:  0.16328413023848998\n",
      "--------------------------------------------------------------------------------\n",
      "Smoothing parameter:  0.18999999999999997\n",
      "R2 score:  0.1502388219756624\n",
      "--------------------------------------------------------------------------------\n",
      "Smoothing parameter:  0.19999999999999998\n",
      "R2 score:  0.13844407435377648\n",
      "--------------------------------------------------------------------------------\n",
      "Smoothing parameter:  0.20999999999999996\n",
      "R2 score:  0.12777936512284915\n",
      "--------------------------------------------------------------------------------\n",
      "Smoothing parameter:  0.21999999999999997\n",
      "R2 score:  0.11813061616497922\n",
      "--------------------------------------------------------------------------------\n",
      "Smoothing parameter:  0.22999999999999998\n",
      "R2 score:  0.10939223736089954\n",
      "--------------------------------------------------------------------------------\n",
      "Smoothing parameter:  0.23999999999999996\n",
      "R2 score:  0.10146798989855144\n",
      "--------------------------------------------------------------------------------\n",
      "Smoothing parameter:  0.24999999999999997\n",
      "R2 score:  0.09427109233336683\n",
      "--------------------------------------------------------------------------------\n",
      "Smoothing parameter:  0.25999999999999995\n",
      "R2 score:  0.08772386880880745\n",
      "--------------------------------------------------------------------------------\n",
      "Smoothing parameter:  0.26999999999999996\n",
      "R2 score:  0.08175714288156144\n",
      "--------------------------------------------------------------------------------\n",
      "Smoothing parameter:  0.27999999999999997\n",
      "R2 score:  0.07630951034448807\n",
      "--------------------------------------------------------------------------------\n",
      "Smoothing parameter:  0.29\n",
      "R2 score:  0.07132657533086739\n",
      "--------------------------------------------------------------------------------\n",
      "Smoothing parameter:  0.29999999999999993\n",
      "R2 score:  0.0667602005965332\n",
      "--------------------------------------------------------------------------------\n",
      "Smoothing parameter:  0.30999999999999994\n",
      "R2 score:  0.0625678007655508\n",
      "--------------------------------------------------------------------------------\n",
      "Smoothing parameter:  0.31999999999999995\n",
      "R2 score:  0.058711693050691904\n",
      "--------------------------------------------------------------------------------\n",
      "Smoothing parameter:  0.32999999999999996\n",
      "R2 score:  0.055158511004237964\n",
      "--------------------------------------------------------------------------------\n",
      "Smoothing parameter:  0.33999999999999997\n",
      "R2 score:  0.051878681438164764\n",
      "--------------------------------------------------------------------------------\n",
      "Smoothing parameter:  0.35\n",
      "R2 score:  0.04884596154842158\n",
      "--------------------------------------------------------------------------------\n",
      "Smoothing parameter:  0.35999999999999993\n",
      "R2 score:  0.04603703165500961\n",
      "--------------------------------------------------------------------------------\n",
      "Smoothing parameter:  0.36999999999999994\n",
      "R2 score:  0.04343113827372369\n",
      "--------------------------------------------------------------------------------\n",
      "Smoothing parameter:  0.37999999999999995\n",
      "R2 score:  0.0410097821021852\n",
      "--------------------------------------------------------------------------------\n",
      "Smoothing parameter:  0.38999999999999996\n",
      "R2 score:  0.03875644569565895\n",
      "--------------------------------------------------------------------------------\n",
      "Smoothing parameter:  0.39999999999999997\n",
      "R2 score:  0.03665635597596972\n",
      "--------------------------------------------------------------------------------\n",
      "Smoothing parameter:  0.4099999999999999\n",
      "R2 score:  0.034696277165116585\n",
      "--------------------------------------------------------------------------------\n",
      "Smoothing parameter:  0.41999999999999993\n",
      "R2 score:  0.03286433020620094\n",
      "--------------------------------------------------------------------------------\n",
      "Smoothing parameter:  0.42999999999999994\n",
      "R2 score:  0.03114983519437886\n",
      "--------------------------------------------------------------------------------\n",
      "Smoothing parameter:  0.43999999999999995\n",
      "R2 score:  0.029543173771160003\n",
      "--------------------------------------------------------------------------------\n",
      "Smoothing parameter:  0.44999999999999996\n",
      "R2 score:  0.02803566882767894\n",
      "--------------------------------------------------------------------------------\n",
      "Smoothing parameter:  0.4599999999999999\n",
      "R2 score:  0.026619479213418895\n",
      "--------------------------------------------------------------------------------\n",
      "Smoothing parameter:  0.4699999999999999\n",
      "R2 score:  0.025287507456775438\n",
      "--------------------------------------------------------------------------------\n",
      "Smoothing parameter:  0.4799999999999999\n",
      "R2 score:  0.02403331877504944\n",
      "--------------------------------------------------------------------------------\n",
      "Smoothing parameter:  0.48999999999999994\n",
      "R2 score:  0.022851069887345865\n",
      "--------------------------------------------------------------------------------\n",
      "Smoothing parameter:  0.49999999999999994\n",
      "R2 score:  0.021735446348028375\n",
      "--------------------------------------------------------------------------------\n",
      "Smoothing parameter:  0.5099999999999999\n",
      "R2 score:  0.020681607294563586\n",
      "--------------------------------------------------------------------------------\n",
      "Smoothing parameter:  0.5199999999999999\n",
      "R2 score:  0.01968513665527849\n",
      "--------------------------------------------------------------------------------\n",
      "Smoothing parameter:  0.5299999999999999\n",
      "R2 score:  0.018741999992975655\n",
      "--------------------------------------------------------------------------------\n",
      "Smoothing parameter:  0.5399999999999999\n",
      "R2 score:  0.01784850627238066\n",
      "--------------------------------------------------------------------------------\n",
      "Smoothing parameter:  0.5499999999999999\n",
      "R2 score:  0.017001273935622563\n",
      "--------------------------------------------------------------------------------\n",
      "Smoothing parameter:  0.5599999999999999\n",
      "R2 score:  0.01619720075257336\n",
      "--------------------------------------------------------------------------------\n",
      "Smoothing parameter:  0.57\n",
      "R2 score:  0.015433436983874893\n",
      "--------------------------------------------------------------------------------\n",
      "Smoothing parameter:  0.58\n",
      "R2 score:  0.014707361455499224\n",
      "--------------------------------------------------------------------------------\n",
      "Smoothing parameter:  0.5899999999999999\n",
      "R2 score:  0.014016560196206562\n",
      "--------------------------------------------------------------------------------\n",
      "Smoothing parameter:  0.5999999999999999\n",
      "R2 score:  0.013358807334459821\n",
      "--------------------------------------------------------------------------------\n",
      "Smoothing parameter:  0.6099999999999999\n",
      "R2 score:  0.012732047990340112\n",
      "--------------------------------------------------------------------------------\n",
      "Smoothing parameter:  0.6199999999999999\n",
      "R2 score:  0.012134382931631937\n",
      "--------------------------------------------------------------------------------\n",
      "Smoothing parameter:  0.6299999999999999\n",
      "R2 score:  0.01156405479231326\n",
      "--------------------------------------------------------------------------------\n",
      "Smoothing parameter:  0.6399999999999999\n",
      "R2 score:  0.011019435676823286\n",
      "--------------------------------------------------------------------------------\n",
      "Smoothing parameter:  0.6499999999999999\n",
      "R2 score:  0.010499015995264926\n",
      "--------------------------------------------------------------------------------\n",
      "Smoothing parameter:  0.6599999999999999\n",
      "R2 score:  0.010001394393594598\n",
      "--------------------------------------------------------------------------------\n",
      "Smoothing parameter:  0.6699999999999999\n",
      "R2 score:  0.009525268659260622\n",
      "--------------------------------------------------------------------------------\n",
      "Smoothing parameter:  0.6799999999999999\n",
      "R2 score:  0.009069427497040428\n",
      "--------------------------------------------------------------------------------\n",
      "Smoothing parameter:  0.69\n",
      "R2 score:  0.00863274308225126\n",
      "--------------------------------------------------------------------------------\n",
      "Smoothing parameter:  0.6999999999999998\n",
      "R2 score:  0.008214164309378824\n",
      "--------------------------------------------------------------------------------\n",
      "Smoothing parameter:  0.7099999999999999\n",
      "R2 score:  0.007812710663629652\n",
      "--------------------------------------------------------------------------------\n",
      "Smoothing parameter:  0.7199999999999999\n",
      "R2 score:  0.007427466651223513\n",
      "--------------------------------------------------------------------------------\n",
      "Smoothing parameter:  0.7299999999999999\n",
      "R2 score:  0.0070575767314945415\n",
      "--------------------------------------------------------------------------------\n",
      "Smoothing parameter:  0.7399999999999999\n",
      "R2 score:  0.006702240700258821\n",
      "--------------------------------------------------------------------------------\n",
      "Smoothing parameter:  0.7499999999999999\n",
      "R2 score:  0.00636070947949019\n",
      "--------------------------------------------------------------------------------\n",
      "Smoothing parameter:  0.7599999999999999\n",
      "R2 score:  0.006032281273290696\n",
      "--------------------------------------------------------------------------------\n",
      "Smoothing parameter:  0.7699999999999999\n",
      "R2 score:  0.005716298054469049\n",
      "--------------------------------------------------------------------------------\n",
      "Smoothing parameter:  0.7799999999999999\n",
      "R2 score:  0.0054121423498774135\n",
      "--------------------------------------------------------------------------------\n",
      "Smoothing parameter:  0.7899999999999999\n",
      "R2 score:  0.005119234296035113\n",
      "--------------------------------------------------------------------------------\n",
      "Smoothing parameter:  0.7999999999999999\n",
      "R2 score:  0.00483702893956206\n",
      "--------------------------------------------------------------------------------\n",
      "Smoothing parameter:  0.8099999999999998\n",
      "R2 score:  0.004565013759594061\n",
      "--------------------------------------------------------------------------------\n",
      "Smoothing parameter:  0.8199999999999998\n",
      "R2 score:  0.004302706391697719\n",
      "--------------------------------------------------------------------------------\n",
      "Smoothing parameter:  0.8299999999999998\n",
      "R2 score:  0.00404965253489542\n",
      "--------------------------------------------------------------------------------\n",
      "Smoothing parameter:  0.8399999999999999\n",
      "R2 score:  0.003805424025257742\n",
      "--------------------------------------------------------------------------------\n",
      "Smoothing parameter:  0.8499999999999999\n",
      "R2 score:  0.0035696170611767553\n",
      "--------------------------------------------------------------------------------\n",
      "Smoothing parameter:  0.8599999999999999\n",
      "R2 score:  0.003341850566905058\n",
      "--------------------------------------------------------------------------------\n",
      "Smoothing parameter:  0.8699999999999999\n",
      "R2 score:  0.0031217646822485623\n",
      "--------------------------------------------------------------------------------\n",
      "Smoothing parameter:  0.8799999999999999\n",
      "R2 score:  0.0029090193674893294\n",
      "--------------------------------------------------------------------------------\n",
      "Smoothing parameter:  0.8899999999999999\n",
      "R2 score:  0.0027032931136444782\n",
      "--------------------------------------------------------------------------------\n",
      "Smoothing parameter:  0.8999999999999999\n",
      "R2 score:  0.0025042817491217617\n",
      "--------------------------------------------------------------------------------\n",
      "Smoothing parameter:  0.9099999999999999\n",
      "R2 score:  0.0023116973346625214\n",
      "--------------------------------------------------------------------------------\n",
      "Smoothing parameter:  0.9199999999999998\n",
      "R2 score:  0.0021252671392233413\n",
      "--------------------------------------------------------------------------------\n",
      "Smoothing parameter:  0.9299999999999998\n",
      "R2 score:  0.0019447326901230744\n",
      "--------------------------------------------------------------------------------\n",
      "Smoothing parameter:  0.9399999999999998\n",
      "R2 score:  0.0017698488913914234\n",
      "--------------------------------------------------------------------------------\n",
      "Smoothing parameter:  0.9499999999999998\n",
      "R2 score:  0.001600383204806266\n",
      "--------------------------------------------------------------------------------\n",
      "Smoothing parameter:  0.9599999999999999\n",
      "R2 score:  0.0014361148885946307\n",
      "--------------------------------------------------------------------------------\n",
      "Smoothing parameter:  0.9699999999999999\n",
      "R2 score:  0.0012768342892301998\n",
      "--------------------------------------------------------------------------------\n",
      "Smoothing parameter:  0.9799999999999999\n",
      "R2 score:  0.0011223421821484614\n",
      "--------------------------------------------------------------------------------\n",
      "Smoothing parameter:  0.9899999999999999\n",
      "R2 score:  0.0009724491575714422\n"
     ]
    }
   ],
   "source": [
    "for sigma in np.arange(start=0.02, stop=1.0, step=0.01):\n",
    "    grnn = GRNN(kernel=\"gaussian\", sigma=sigma)\n",
    "    grnn.fit(X_train, y_train)\n",
    "    preds = [grnn.predict([x_test]) for x_test in X_test]\n",
    "    print(\"\".join([\"-\"]*80))\n",
    "    print(\"Smoothing parameter: \", sigma)\n",
    "    print(\"R2 score: \", r2_score(y_test, preds))"
   ]
  },
  {
   "cell_type": "markdown",
   "id": "d7b1c1c9-9604-49c8-8207-3016f1d7805f",
   "metadata": {},
   "source": [
    "### Digits"
   ]
  },
  {
   "cell_type": "code",
   "execution_count": 16,
   "id": "b2372002-1720-4149-b69a-82930775ab24",
   "metadata": {},
   "outputs": [],
   "source": [
    "digits = load_digits(as_frame=True)\n",
    "X = digits['data'].to_numpy()\n",
    "y = digits['target'].to_numpy()\n",
    "\n",
    "X_train, X_test, y_train, y_test = train_test_split(X, y, random_state=42, test_size=0.3)"
   ]
  },
  {
   "cell_type": "code",
   "execution_count": 18,
   "id": "f72c0be0-7ebf-454f-9de9-00403a93fca3",
   "metadata": {},
   "outputs": [
    {
     "data": {
      "text/plain": [
       "<matplotlib.image.AxesImage at 0x126c32900>"
      ]
     },
     "execution_count": 18,
     "metadata": {},
     "output_type": "execute_result"
    },
    {
     "data": {
      "text/plain": [
       "<Figure size 640x480 with 0 Axes>"
      ]
     },
     "metadata": {},
     "output_type": "display_data"
    },
    {
     "data": {
      "image/png": "[encoded data removed]",
      "text/plain": [
       "<Figure size 480x480 with 1 Axes>"
      ]
     },
     "metadata": {},
     "output_type": "display_data"
    }
   ],
   "source": [
    "plt.gray()\n",
    "plt.matshow(digits.images[2])"
   ]
  },
  {
   "cell_type": "code",
   "execution_count": 20,
   "id": "da3c0a9b-9102-4df8-b485-9859e377cfd9",
   "metadata": {},
   "outputs": [],
   "source": [
    "pnn = PNN(kernel=\"gaussian\", sigma=0.8, n_classes=10, losses=[1]*10)"
   ]
  },
  {
   "cell_type": "code",
   "execution_count": 22,
   "id": "f52e448b-ad98-46c6-af04-2d51a33ec5b4",
   "metadata": {},
   "outputs": [
    {
     "name": "stdout",
     "output_type": "stream",
     "text": [
      "[0 1 2 3 4 5 6 7 8 9]\n"
     ]
    }
   ],
   "source": [
    "pnn.fit(X_train, y_train)"
   ]
  },
  {
   "cell_type": "code",
   "execution_count": 24,
   "id": "f7141d59-dab1-467a-8ee1-90d1ece8c691",
   "metadata": {},
   "outputs": [],
   "source": [
    "preds = [pnn.predict([x_test]) for x_test in X_test]"
   ]
  },
  {
   "cell_type": "code",
   "execution_count": 26,
   "id": "4ca94b3c-5a67-4297-be12-aeacdd9e14ef",
   "metadata": {},
   "outputs": [
    {
     "data": {
      "text/plain": [
       "0.9833333333333333"
      ]
     },
     "execution_count": 26,
     "metadata": {},
     "output_type": "execute_result"
    }
   ],
   "source": [
    "accuracy_score(y_test, preds)"
   ]
  },
  {
   "cell_type": "markdown",
   "id": "03717ec9-af3f-401e-877f-7a1c9da5f9c1",
   "metadata": {},
   "source": [
    "### Fashin MINST"
   ]
  },
  {
   "cell_type": "code",
   "execution_count": 28,
   "id": "2b94cfae-0f0b-4135-8b72-7d93d7b9e835",
   "metadata": {},
   "outputs": [],
   "source": [
    "train_data = FashionMNIST(\n",
    "    root=\"./data\",\n",
    "    train=True,\n",
    "    download=True,\n",
    "    transform=ToTensor(),\n",
    "    target_transform=None\n",
    ")\n",
    "\n",
    "# setup test data\n",
    "test_data = FashionMNIST(\n",
    "    root=\"./data\",\n",
    "    train=False,\n",
    "    download=True,\n",
    "    transform=ToTensor()\n",
    ")"
   ]
  },
  {
   "cell_type": "code",
   "execution_count": 30,
   "id": "98d68c24-3174-4ece-8b17-f463e724211b",
   "metadata": {},
   "outputs": [],
   "source": [
    "X_train = train_data.data.numpy().reshape(-1, 784)\n",
    "y_train = train_data.targets.numpy()\n",
    "\n",
    "X_test = test_data.data.numpy().reshape(-1, 784)\n",
    "y_test = test_data.targets.numpy()"
   ]
  },
  {
   "cell_type": "code",
   "execution_count": 32,
   "id": "a4696a43-220c-499f-aca4-2bdcdbee52c8",
   "metadata": {},
   "outputs": [
    {
     "name": "stdout",
     "output_type": "stream",
     "text": [
      "(60000, 784)\n",
      "(10000, 784)\n",
      "(60000,)\n",
      "(10000,)\n"
     ]
    }
   ],
   "source": [
    "print(X_train.shape)\n",
    "print(X_test.shape)\n",
    "\n",
    "print(y_train.shape)\n",
    "print(y_test.shape)"
   ]
  },
  {
   "cell_type": "code",
   "execution_count": 34,
   "id": "d2b69cb1-772f-4a8a-a1fe-9b2880813d73",
   "metadata": {},
   "outputs": [
    {
     "name": "stdout",
     "output_type": "stream",
     "text": [
      "[0 1 2 3 4 5 6 7 8 9]\n"
     ]
    }
   ],
   "source": [
    "pnn = PNN(kernel=\"gaussian\", sigma=0.5, n_classes=10, losses=[1]*10)\n",
    "pnn.fit(X_train, y_train)"
   ]
  },
  {
   "cell_type": "code",
   "execution_count": null,
   "id": "1b316b04-8101-402e-9bcf-a733e9f30f46",
   "metadata": {},
   "outputs": [
    {
     "name": "stderr",
     "output_type": "stream",
     "text": [
      "/Users/g.vinogradov/Documents/Projects/regularization-pnn-grnn/Kernels/GaussianKernel.py:16: RuntimeWarning: overflow encountered in exp\n",
      "  return np.exp(-dists / (2 * self._sigma**2)), dists\n"
     ]
    }
   ],
   "source": [
    "preds = [pnn.predict([x_test]) for x_test in X_test]"
   ]
  },
  {
   "cell_type": "code",
   "execution_count": null,
   "id": "4893e268-9364-4f04-b571-da5d7776c965",
   "metadata": {},
   "outputs": [],
   "source": [
    "accuracy_score(y_test, preds)"
   ]
  }
 ],
 "metadata": {
  "kernelspec": {
   "display_name": "GRNN PNN",
   "language": "python",
   "name": "grnn_pnn"
  },
  "language_info": {
   "codemirror_mode": {
    "name": "ipython",
    "version": 3
   },
   "file_extension": ".py",
   "mimetype": "text/x-python",
   "name": "python",
   "nbconvert_exporter": "python",
   "pygments_lexer": "ipython3",
   "version": "3.13.1"
  }
 },
 "nbformat": 4,
 "nbformat_minor": 5
}
