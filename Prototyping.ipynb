{
 "cells": [
  {
   "cell_type": "code",
   "execution_count": 2,
   "id": "c0560cf5-eeec-487b-9eef-8ca6e345106b",
   "metadata": {},
   "outputs": [],
   "source": [
    "import numpy as np\n",
    "import pandas as pd\n",
    "import matplotlib.pyplot as plt\n",
    "from PNN import PNN\n",
    "from GRNN import GRNN\n",
    "from sklearn.linear_model import LinearRegression\n",
    "from sklearn.tree import DecisionTreeRegressor\n",
    "from sklearn.datasets import load_iris, load_diabetes, load_digits\n",
    "from torchvision.transforms import ToTensor\n",
    "from torchvision.datasets import FashionMNIST\n",
    "from torch import squeeze\n",
    "from sklearn.model_selection import train_test_split\n",
    "from sklearn.metrics import accuracy_score, r2_score"
   ]
  },
  {
   "cell_type": "markdown",
   "id": "316c869c-a4d4-4ebe-9685-16659be5eb56",
   "metadata": {},
   "source": [
    "### PNN example"
   ]
  },
  {
   "cell_type": "code",
   "execution_count": 4,
   "id": "c656fcc5-64e8-4cac-8166-f22ddf8d5b0c",
   "metadata": {},
   "outputs": [],
   "source": [
    "pnn = PNN(kernel=\"gaussian\", sigma=0.5, n_classes=3, losses=[1,1,1])"
   ]
  },
  {
   "cell_type": "code",
   "execution_count": 5,
   "id": "f92466f0-591e-4086-90b7-195e2b1e188c",
   "metadata": {},
   "outputs": [],
   "source": [
    "df = load_iris(as_frame=True)\n",
    "X = df['data'].to_numpy()\n",
    "y = df['target'].to_numpy()"
   ]
  },
  {
   "cell_type": "code",
   "execution_count": 6,
   "id": "fadd1bce-dbbb-43c3-a677-c4f9a3af5b24",
   "metadata": {},
   "outputs": [],
   "source": [
    "X_train, X_test, y_train, y_test = train_test_split(X, y, random_state=42, test_size=0.3)"
   ]
  },
  {
   "cell_type": "code",
   "execution_count": 7,
   "id": "798de34b-04e2-4fa7-9fcf-50f6b7de73e7",
   "metadata": {},
   "outputs": [
    {
     "name": "stdout",
     "output_type": "stream",
     "text": [
      "(105, 4)\n",
      "(45, 4)\n",
      "(105,)\n",
      "(45,)\n"
     ]
    }
   ],
   "source": [
    "print(X_train.shape)\n",
    "print(X_test.shape)\n",
    "\n",
    "print(y_train.shape)\n",
    "print(y_test.shape)"
   ]
  },
  {
   "cell_type": "code",
   "execution_count": 8,
   "id": "50c3a000-af4b-48c3-b78c-02dc6f3a24e8",
   "metadata": {},
   "outputs": [],
   "source": [
    "pnn.fit(X_train, y_train)\n",
    "\n",
    "preds = [pnn.predict([x_test]) for x_test in X_test]"
   ]
  },
  {
   "cell_type": "code",
   "execution_count": 9,
   "id": "8ed3f1d0-b2cf-423e-bcd8-60f39a4a995a",
   "metadata": {},
   "outputs": [
    {
     "data": {
      "text/plain": [
       "1.0"
      ]
     },
     "execution_count": 9,
     "metadata": {},
     "output_type": "execute_result"
    }
   ],
   "source": [
    "accuracy_score(y_test, preds)"
   ]
  },
  {
   "cell_type": "markdown",
   "id": "5badfdd4-4a34-461e-b11c-5563c240440e",
   "metadata": {},
   "source": [
    "### GRNN example"
   ]
  },
  {
   "cell_type": "code",
   "execution_count": 11,
   "id": "47180d32-0d6f-4cb3-9508-6155dc4f5abb",
   "metadata": {},
   "outputs": [],
   "source": [
    "df = load_diabetes(as_frame=True)\n",
    "X = df['data'].to_numpy()\n",
    "y = df['target'].to_numpy()\n",
    "\n",
    "X_train, X_test, y_train, y_test = train_test_split(X, y, random_state=42, test_size=0.3)"
   ]
  },
  {
   "cell_type": "code",
   "execution_count": 102,
   "id": "cd3d761b-4267-4986-9cd4-79e142567fa5",
   "metadata": {},
   "outputs": [
    {
     "name": "stdout",
     "output_type": "stream",
     "text": [
      "0.45\n"
     ]
    }
   ],
   "source": [
    "grnn = GRNN(kernel=\"gaussian\", sigma=0.05)\n",
    "grnn.fit(X_train, y_train)\n",
    "preds = [grnn.predict(x_test) for x_test in X_test]\n",
    "print(np.round(r2_score(y_test, preds), 2))"
   ]
  },
  {
   "cell_type": "code",
   "execution_count": 103,
   "id": "f145eb22-8106-4837-a619-5ed678a5761b",
   "metadata": {},
   "outputs": [
    {
     "name": "stdout",
     "output_type": "stream",
     "text": [
      "0.48\n"
     ]
    }
   ],
   "source": [
    "lr = LinearRegression()\n",
    "\n",
    "lr.fit(X_train, y_train)\n",
    "preds = lr.predict(X_test)\n",
    "\n",
    "print(np.round(r2_score(y_test, preds), 2))"
   ]
  },
  {
   "cell_type": "markdown",
   "id": "076e84f0-f29b-41c3-ad40-87a27071f265",
   "metadata": {},
   "source": [
    "#### Regularized GRNN"
   ]
  },
  {
   "cell_type": "code",
   "execution_count": 119,
   "id": "fb604cb2-0dac-4eb1-b662-f4c43d7f26a0",
   "metadata": {},
   "outputs": [
    {
     "name": "stdout",
     "output_type": "stream",
     "text": [
      "0.46\n"
     ]
    }
   ],
   "source": [
    "grnn_l1 = GRNN(kernel=\"gaussian\", sigma=0.05, regularization=['dropout', 'l1'], tau=0.5)\n",
    "grnn_l1.fit(X_train, y_train)\n",
    "preds = [grnn_l1.predict(x_test) for x_test in X_test]\n",
    "print(np.round(r2_score(y_test, preds), 2))"
   ]
  },
  {
   "cell_type": "markdown",
   "id": "d7b1c1c9-9604-49c8-8207-3016f1d7805f",
   "metadata": {},
   "source": [
    "### Digits"
   ]
  },
  {
   "cell_type": "code",
   "execution_count": 16,
   "id": "b2372002-1720-4149-b69a-82930775ab24",
   "metadata": {},
   "outputs": [],
   "source": [
    "digits = load_digits(as_frame=True)\n",
    "X = digits['data'].to_numpy()\n",
    "y = digits['target'].to_numpy()\n",
    "\n",
    "X_train, X_test, y_train, y_test = train_test_split(X, y, random_state=42, test_size=0.3)"
   ]
  },
  {
   "cell_type": "code",
   "execution_count": 18,
   "id": "f72c0be0-7ebf-454f-9de9-00403a93fca3",
   "metadata": {},
   "outputs": [
    {
     "data": {
      "text/plain": [
       "<matplotlib.image.AxesImage at 0x126c32900>"
      ]
     },
     "execution_count": 18,
     "metadata": {},
     "output_type": "execute_result"
    },
    {
     "data": {
      "text/plain": [
       "<Figure size 640x480 with 0 Axes>"
      ]
     },
     "metadata": {},
     "output_type": "display_data"
    },
    {
     "data": {
      "image/png": "[encoded data removed]",
      "text/plain": [
       "<Figure size 480x480 with 1 Axes>"
      ]
     },
     "metadata": {},
     "output_type": "display_data"
    }
   ],
   "source": [
    "plt.gray()\n",
    "plt.matshow(digits.images[2])"
   ]
  },
  {
   "cell_type": "code",
   "execution_count": 20,
   "id": "da3c0a9b-9102-4df8-b485-9859e377cfd9",
   "metadata": {},
   "outputs": [],
   "source": [
    "pnn = PNN(kernel=\"gaussian\", sigma=0.8, n_classes=10, losses=[1]*10)"
   ]
  },
  {
   "cell_type": "code",
   "execution_count": 22,
   "id": "f52e448b-ad98-46c6-af04-2d51a33ec5b4",
   "metadata": {},
   "outputs": [
    {
     "name": "stdout",
     "output_type": "stream",
     "text": [
      "[0 1 2 3 4 5 6 7 8 9]\n"
     ]
    }
   ],
   "source": [
    "pnn.fit(X_train, y_train)"
   ]
  },
  {
   "cell_type": "code",
   "execution_count": 24,
   "id": "f7141d59-dab1-467a-8ee1-90d1ece8c691",
   "metadata": {},
   "outputs": [],
   "source": [
    "preds = [pnn.predict([x_test]) for x_test in X_test]"
   ]
  },
  {
   "cell_type": "code",
   "execution_count": 26,
   "id": "4ca94b3c-5a67-4297-be12-aeacdd9e14ef",
   "metadata": {},
   "outputs": [
    {
     "data": {
      "text/plain": [
       "0.9833333333333333"
      ]
     },
     "execution_count": 26,
     "metadata": {},
     "output_type": "execute_result"
    }
   ],
   "source": [
    "accuracy_score(y_test, preds)"
   ]
  }
 ],
 "metadata": {
  "kernelspec": {
   "display_name": "GRNN PNN",
   "language": "python",
   "name": "grnn_pnn"
  },
  "language_info": {
   "codemirror_mode": {
    "name": "ipython",
    "version": 3
   },
   "file_extension": ".py",
   "mimetype": "text/x-python",
   "name": "python",
   "nbconvert_exporter": "python",
   "pygments_lexer": "ipython3",
   "version": "3.13.3"
  }
 },
 "nbformat": 4,
 "nbformat_minor": 5
}
