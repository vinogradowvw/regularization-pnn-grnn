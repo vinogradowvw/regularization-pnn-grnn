{
 "cells": [
  {
   "cell_type": "code",
   "execution_count": 1,
   "id": "6544a4bc-6c6b-4880-b4c5-13ab38991585",
   "metadata": {},
   "outputs": [],
   "source": [
    "import numpy as np\n",
    "import torch\n",
    "import pandas as pd\n",
    "from base.Layers.TrainablePatternLayerPNN import TrainablePatternLayerPNN\n",
    "from PNN.TrainablePNN import TrainablePNN\n",
    "from GRNN.TrainableGRNN import TrainableGRNN\n",
    "from PNN.pnn import PNN\n",
    "from GRNN.grnn import GRNN\n",
    "from sklearn.preprocessing import StandardScaler\n",
    "from sklearn.datasets import load_breast_cancer, load_diabetes, fetch_openml, fetch_olivetti_faces\n",
    "import numpy as np\n",
    "from sklearn.model_selection import KFold\n",
    "from sklearn.metrics import mean_squared_error\n",
    "from sklearn.metrics import accuracy_score\n",
    "from ucimlrepo import fetch_ucirepo"
   ]
  },
  {
   "cell_type": "code",
   "execution_count": 2,
   "id": "d5d0c365-bf48-4083-972e-92e97f5b2cf4",
   "metadata": {},
   "outputs": [],
   "source": [
    "def evaluvate_on_kfold(X, y, model):\n",
    "    \n",
    "    if 'GRNN' in model_class.__name__:\n",
    "        score_func = mean_squared_error\n",
    "    else:\n",
    "        score_func = accuracy_score\n",
    "        \n",
    "    kf = KFold(n_splits=3)\n",
    "\n",
    "    scores = []\n",
    "    \n",
    "    for i, (train_index, test_index) in enumerate(kf.split(X)):\n",
    "        X_train, y_train = X[train_index], y[train_index]\n",
    "        X_test, y_test = X[test_index], y[test_index]\n",
    "        \n",
    "        model.fit(X_train, y_train)\n",
    "        preds = [model.predict([x_test]) for x_test in X_test]\n",
    "        \n",
    "        scores.append(score_func(y_true=y_test, y_pred=preds))\n",
    "\n",
    "    return np.mean(scores)"
   ]
  },
  {
   "cell_type": "code",
   "execution_count": 3,
   "id": "34c69650-cfc2-4899-b4e9-442aad182967",
   "metadata": {},
   "outputs": [],
   "source": [
    "def grid_search_cv(X, y, model_class, sigma_range, tau_range, n_classes=2, losses=None):\n",
    "\n",
    "    if losses is None:\n",
    "        losses = [1] * n_classes\n",
    "\n",
    "    if 'GRNN' in model_class.__name__:\n",
    "        score_func = mean_squared_error\n",
    "    else:\n",
    "        score_func = accuracy_score\n",
    "                \n",
    "    best_sigma = None\n",
    "    best_score = float('inf') if score_func == mean_squared_error else 0\n",
    "\n",
    "    for sigma in sigma_range:\n",
    "        try:\n",
    "            if 'GRNN' in model_class.__name__:\n",
    "                score_func = mean_squared_error\n",
    "                model = model_class(kernel=\"gaussian\", sigma=sigma,\n",
    "                                        regularization=None, tau=None)\n",
    "            else:\n",
    "                score_func = accuracy_score\n",
    "                model = model_class(kernel=\"gaussian\", sigma=sigma,\n",
    "                                        regularization=None, tau=None,\n",
    "                                        n_classes=n_classes, losses=losses)\n",
    "            score = evaluvate_on_kfold(X, y, model)\n",
    "            if ((score_func == accuracy_score and score > best_score) or\n",
    "                (score_func == mean_squared_error and score < best_score)):\n",
    "                best_score = score\n",
    "                best_sigma = sigma\n",
    "        except ZeroDivisionError:\n",
    "            continue\n",
    "\n",
    "    results = []\n",
    "    results.append({\n",
    "        \"Model\": f\"{model_class.__name__}\",\n",
    "        \"Best Sigma\": best_sigma,\n",
    "        \"Best Tau\": None,\n",
    "        \"Score\": best_score\n",
    "    })\n",
    "\n",
    "    print(f\"Best sigma found: {best_sigma} (Score: {best_score:.4f})\")\n",
    "\n",
    "    regularizations = ['l1', 'l2']\n",
    "    \n",
    "    for reg in regularizations:\n",
    "        best_tau = None\n",
    "        best_score = float('inf') if score_func == mean_squared_error else 0\n",
    "\n",
    "        for tau in tau_range:\n",
    "            try:\n",
    "                if 'GRNN' in model_class.__name__:\n",
    "                    trainable_model_class = TrainableGRNN\n",
    "                    model = trainable_model_class(kernel=\"gaussian\", sigma=best_sigma,\n",
    "                                    regularization=reg, tau=tau)\n",
    "                else:\n",
    "                    trainable_model_class = TrainablePNN\n",
    "                    model = trainable_model_class(kernel=\"gaussian\", sigma=best_sigma,\n",
    "                                    regularization=reg, tau=tau,\n",
    "                                    n_classes=n_classes, losses=losses)\n",
    "                \n",
    "                score = evaluvate_on_kfold(X, y, model)\n",
    "                if ((score_func == accuracy_score and score > best_score) or\n",
    "                    (score_func == mean_squared_error and score < best_score)):\n",
    "                    best_score = score\n",
    "                    best_tau = tau\n",
    "            except ZeroDivisionError as e:\n",
    "                continue\n",
    "\n",
    "        results.append({\n",
    "            \"Model\": f\"{model_class.__name__} with {reg.upper()}\",\n",
    "            \"Best Sigma\": best_sigma,\n",
    "            \"Best Tau\": best_tau,\n",
    "            \"Score\": best_score\n",
    "        })\n",
    "\n",
    "    return results"
   ]
  },
  {
   "cell_type": "code",
   "execution_count": 4,
   "id": "457b3104-f356-4d74-a574-b60a742ee7ae",
   "metadata": {},
   "outputs": [],
   "source": [
    "data = load_breast_cancer()\n",
    "X = data['data']\n",
    "y_train = data['target']\n",
    "\n",
    "scaler = StandardScaler()\n",
    "X_train = scaler.fit_transform(X)"
   ]
  },
  {
   "cell_type": "code",
   "execution_count": 5,
   "id": "1143c006-4d71-4f60-8b7d-c5c74e8177b8",
   "metadata": {},
   "outputs": [
    {
     "name": "stdout",
     "output_type": "stream",
     "text": [
      "Best sigma found: 0.8 (Score: 0.9561)\n"
     ]
    },
    {
     "name": "stderr",
     "output_type": "stream",
     "text": [
      "/Users/g.vinogradov/Documents/Projects/regularization-pnn-grnn/base/Layers/TrainablePatternLayerPNN.py:98: UserWarning: Creating a tensor from a list of numpy.ndarrays is extremely slow. Please consider converting the list to a single numpy.ndarray with numpy.array() before converting to a tensor. (Triggered internally at /Users/runner/work/_temp/anaconda/conda-bld/pytorch_1729646995093/work/torch/csrc/utils/tensor_new.cpp:281.)\n",
      "  input = torch.tensor(input, dtype=torch.float32)\n"
     ]
    }
   ],
   "source": [
    "model_class = PNN\n",
    "sigma_range = np.round(np.arange(0.1, 5.1, 0.1), 2)\n",
    "tau_range = np.round(np.arange(0.1, 5.1, 0.1), 2)\n",
    "\n",
    "evals = grid_search_cv(X_train, y_train, model_class, sigma_range, tau_range, n_classes=2, losses=None)"
   ]
  },
  {
   "cell_type": "code",
   "execution_count": 6,
   "id": "77114ba7-68af-49c7-a04d-2293b0a8a1b4",
   "metadata": {},
   "outputs": [
    {
     "data": {
      "text/html": [
       "<div>\n",
       "<style scoped>\n",
       "    .dataframe tbody tr th:only-of-type {\n",
       "        vertical-align: middle;\n",
       "    }\n",
       "\n",
       "    .dataframe tbody tr th {\n",
       "        vertical-align: top;\n",
       "    }\n",
       "\n",
       "    .dataframe thead th {\n",
       "        text-align: right;\n",
       "    }\n",
       "</style>\n",
       "<table border=\"1\" class=\"dataframe\">\n",
       "  <thead>\n",
       "    <tr style=\"text-align: right;\">\n",
       "      <th></th>\n",
       "      <th>Model</th>\n",
       "      <th>Best Sigma</th>\n",
       "      <th>Best Tau</th>\n",
       "      <th>Score</th>\n",
       "      <th>Impovement %</th>\n",
       "    </tr>\n",
       "  </thead>\n",
       "  <tbody>\n",
       "    <tr>\n",
       "      <th>0</th>\n",
       "      <td>PNN</td>\n",
       "      <td>0.8</td>\n",
       "      <td>NaN</td>\n",
       "      <td>0.956094</td>\n",
       "      <td>0.00</td>\n",
       "    </tr>\n",
       "    <tr>\n",
       "      <th>1</th>\n",
       "      <td>PNN with L1</td>\n",
       "      <td>0.8</td>\n",
       "      <td>2.6</td>\n",
       "      <td>0.957848</td>\n",
       "      <td>0.18</td>\n",
       "    </tr>\n",
       "    <tr>\n",
       "      <th>2</th>\n",
       "      <td>PNN with L2</td>\n",
       "      <td>0.8</td>\n",
       "      <td>4.6</td>\n",
       "      <td>0.963121</td>\n",
       "      <td>0.73</td>\n",
       "    </tr>\n",
       "  </tbody>\n",
       "</table>\n",
       "</div>"
      ],
      "text/plain": [
       "         Model  Best Sigma  Best Tau     Score  Impovement %\n",
       "0          PNN         0.8       NaN  0.956094          0.00\n",
       "1  PNN with L1         0.8       2.6  0.957848          0.18\n",
       "2  PNN with L2         0.8       4.6  0.963121          0.73"
      ]
     },
     "execution_count": 6,
     "metadata": {},
     "output_type": "execute_result"
    }
   ],
   "source": [
    "results_df = pd.DataFrame(evals)\n",
    "results_df['Impovement %'] = np.round((results_df['Score'] / results_df['Score'].iloc[0]) * 100, 2) - 100\n",
    "results_df"
   ]
  },
  {
   "cell_type": "code",
   "execution_count": 7,
   "id": "bac0d62c-aa9d-4626-8dd5-8f6ca6c77d28",
   "metadata": {},
   "outputs": [
    {
     "data": {
      "text/plain": [
       "'\\\\begin{tabular}{llrrrr}\\n\\\\toprule\\n & Model & Best Sigma & Best Tau & Score & Impovement % \\\\\\\\\\n\\\\midrule\\n0 & PNN & 0.80 & NaN & 0.96 & 0.00 \\\\\\\\\\n1 & PNN with L1 & 0.80 & 2.60 & 0.96 & 0.18 \\\\\\\\\\n2 & PNN with L2 & 0.80 & 4.60 & 0.96 & 0.73 \\\\\\\\\\n\\\\bottomrule\\n\\\\end{tabular}\\n'"
      ]
     },
     "execution_count": 7,
     "metadata": {},
     "output_type": "execute_result"
    }
   ],
   "source": [
    "results_df.to_latex(float_format=\"{:.2f}\".format)"
   ]
  },
  {
   "cell_type": "code",
   "execution_count": 8,
   "id": "9bf25726-0982-4a8b-bf7b-4b7c76105beb",
   "metadata": {},
   "outputs": [],
   "source": [
    "df = pd.read_csv('./data/audit_risk.csv')\n",
    "\n",
    "df = df.dropna()\n",
    "\n",
    "df = df.drop(columns=['LOCATION_ID'])\n",
    "\n",
    "X = df.drop(columns=['Risk']).values\n",
    "y_train = df['Risk'].values\n",
    "\n",
    "scaler = StandardScaler()\n",
    "X_train = scaler.fit_transform(X)"
   ]
  },
  {
   "cell_type": "code",
   "execution_count": 9,
   "id": "bcb20ad5-6de0-470e-9f63-ecf826bbfb80",
   "metadata": {},
   "outputs": [
    {
     "name": "stdout",
     "output_type": "stream",
     "text": [
      "Best sigma found: 0.5 (Score: 0.9548)\n"
     ]
    }
   ],
   "source": [
    "model_class = PNN\n",
    "sigma_range = np.round(np.arange(0.1, 5.1, 0.1), 2)\n",
    "tau_range = np.round(np.arange(0.1, 5.1, 0.1), 2)\n",
    "\n",
    "evals = grid_search_cv(X_train, y_train, model_class, sigma_range, tau_range, n_classes=2, losses=None)"
   ]
  },
  {
   "cell_type": "code",
   "execution_count": 10,
   "id": "55a78ea6-6063-4b88-b6c2-556460ed97fa",
   "metadata": {},
   "outputs": [
    {
     "data": {
      "text/html": [
       "<div>\n",
       "<style scoped>\n",
       "    .dataframe tbody tr th:only-of-type {\n",
       "        vertical-align: middle;\n",
       "    }\n",
       "\n",
       "    .dataframe tbody tr th {\n",
       "        vertical-align: top;\n",
       "    }\n",
       "\n",
       "    .dataframe thead th {\n",
       "        text-align: right;\n",
       "    }\n",
       "</style>\n",
       "<table border=\"1\" class=\"dataframe\">\n",
       "  <thead>\n",
       "    <tr style=\"text-align: right;\">\n",
       "      <th></th>\n",
       "      <th>Model</th>\n",
       "      <th>Best Sigma</th>\n",
       "      <th>Best Tau</th>\n",
       "      <th>Score</th>\n",
       "      <th>Impovement %</th>\n",
       "    </tr>\n",
       "  </thead>\n",
       "  <tbody>\n",
       "    <tr>\n",
       "      <th>0</th>\n",
       "      <td>PNN</td>\n",
       "      <td>0.5</td>\n",
       "      <td>NaN</td>\n",
       "      <td>0.954840</td>\n",
       "      <td>0.00</td>\n",
       "    </tr>\n",
       "    <tr>\n",
       "      <th>1</th>\n",
       "      <td>PNN with L1</td>\n",
       "      <td>0.5</td>\n",
       "      <td>1.2</td>\n",
       "      <td>0.936802</td>\n",
       "      <td>-1.89</td>\n",
       "    </tr>\n",
       "    <tr>\n",
       "      <th>2</th>\n",
       "      <td>PNN with L2</td>\n",
       "      <td>0.5</td>\n",
       "      <td>2.6</td>\n",
       "      <td>0.936797</td>\n",
       "      <td>-1.89</td>\n",
       "    </tr>\n",
       "  </tbody>\n",
       "</table>\n",
       "</div>"
      ],
      "text/plain": [
       "         Model  Best Sigma  Best Tau     Score  Impovement %\n",
       "0          PNN         0.5       NaN  0.954840          0.00\n",
       "1  PNN with L1         0.5       1.2  0.936802         -1.89\n",
       "2  PNN with L2         0.5       2.6  0.936797         -1.89"
      ]
     },
     "execution_count": 10,
     "metadata": {},
     "output_type": "execute_result"
    }
   ],
   "source": [
    "results_df = pd.DataFrame(evals)\n",
    "results_df['Impovement %'] = np.round((results_df['Score'] / results_df['Score'].iloc[0]) * 100, 2) - 100\n",
    "results_df"
   ]
  },
  {
   "cell_type": "code",
   "execution_count": 11,
   "id": "b3500ec0-66a1-4709-bbeb-1ea8ae6134b2",
   "metadata": {},
   "outputs": [],
   "source": [
    "data = load_diabetes()\n",
    "\n",
    "X = data['data']\n",
    "y_train = data['target']\n",
    "scaler = StandardScaler()\n",
    "X_train = scaler.fit_transform(X)"
   ]
  },
  {
   "cell_type": "code",
   "execution_count": 12,
   "id": "a379a8f3-5f9b-462a-a2ce-bbdc416f4828",
   "metadata": {},
   "outputs": [
    {
     "name": "stdout",
     "output_type": "stream",
     "text": [
      "Best sigma found: 1.0 (Score: 3219.3482)\n"
     ]
    }
   ],
   "source": [
    "model_class = GRNN\n",
    "sigma_range = np.round(np.arange(0.1, 5.1, 0.1), 2)\n",
    "tau_range = np.round(np.arange(0.1, 5.1, 0.1), 2)\n",
    "\n",
    "evals = grid_search_cv(X_train, y_train, model_class, sigma_range, tau_range, n_classes=2, losses=None)"
   ]
  },
  {
   "cell_type": "code",
   "execution_count": 13,
   "id": "0629783d-137d-404c-bc07-bad7255364c9",
   "metadata": {},
   "outputs": [
    {
     "data": {
      "text/html": [
       "<div>\n",
       "<style scoped>\n",
       "    .dataframe tbody tr th:only-of-type {\n",
       "        vertical-align: middle;\n",
       "    }\n",
       "\n",
       "    .dataframe tbody tr th {\n",
       "        vertical-align: top;\n",
       "    }\n",
       "\n",
       "    .dataframe thead th {\n",
       "        text-align: right;\n",
       "    }\n",
       "</style>\n",
       "<table border=\"1\" class=\"dataframe\">\n",
       "  <thead>\n",
       "    <tr style=\"text-align: right;\">\n",
       "      <th></th>\n",
       "      <th>Model</th>\n",
       "      <th>Best Sigma</th>\n",
       "      <th>Best Tau</th>\n",
       "      <th>Score</th>\n",
       "      <th>Impovement %</th>\n",
       "    </tr>\n",
       "  </thead>\n",
       "  <tbody>\n",
       "    <tr>\n",
       "      <th>0</th>\n",
       "      <td>GRNN</td>\n",
       "      <td>1.0</td>\n",
       "      <td>NaN</td>\n",
       "      <td>3219.348204</td>\n",
       "      <td>0.00</td>\n",
       "    </tr>\n",
       "    <tr>\n",
       "      <th>1</th>\n",
       "      <td>GRNN with L1</td>\n",
       "      <td>1.0</td>\n",
       "      <td>2.8</td>\n",
       "      <td>3113.959811</td>\n",
       "      <td>3.38</td>\n",
       "    </tr>\n",
       "    <tr>\n",
       "      <th>2</th>\n",
       "      <td>GRNN with L2</td>\n",
       "      <td>1.0</td>\n",
       "      <td>1.1</td>\n",
       "      <td>3080.503068</td>\n",
       "      <td>4.51</td>\n",
       "    </tr>\n",
       "  </tbody>\n",
       "</table>\n",
       "</div>"
      ],
      "text/plain": [
       "          Model  Best Sigma  Best Tau        Score  Impovement %\n",
       "0          GRNN         1.0       NaN  3219.348204          0.00\n",
       "1  GRNN with L1         1.0       2.8  3113.959811          3.38\n",
       "2  GRNN with L2         1.0       1.1  3080.503068          4.51"
      ]
     },
     "execution_count": 13,
     "metadata": {},
     "output_type": "execute_result"
    }
   ],
   "source": [
    "results_df = pd.DataFrame(evals)\n",
    "results_df['Impovement %'] = np.round((results_df['Score'].iloc[0] / results_df['Score']) * 100, 2) - 100\n",
    "results_df"
   ]
  },
  {
   "cell_type": "code",
   "execution_count": 16,
   "id": "ffd8ffde-b7ea-4bfa-95d8-a350d8412927",
   "metadata": {},
   "outputs": [],
   "source": [
    "url = \"https://archive.ics.uci.edu/ml/machine-learning-databases/concrete/compressive/Concrete_Data.xls\"\n",
    "df = pd.read_excel(url)\n",
    "\n",
    "X = df.iloc[:, :-1].values\n",
    "y_train = df.iloc[:, -1].values\n",
    "\n",
    "scaler = StandardScaler()\n",
    "X_train = scaler.fit_transform(X)"
   ]
  },
  {
   "cell_type": "code",
   "execution_count": 17,
   "id": "a1d32b25-ba9b-41f7-b7af-317764aa89a7",
   "metadata": {},
   "outputs": [
    {
     "name": "stdout",
     "output_type": "stream",
     "text": [
      "Best sigma found: 0.6 (Score: 142.1832)\n"
     ]
    }
   ],
   "source": [
    "model_class = GRNN\n",
    "sigma_range = np.round(np.arange(0.1, 5.1, 0.1), 2)\n",
    "tau_range = np.round(np.arange(0.1, 5.1, 0.1), 2)\n",
    "\n",
    "evals = grid_search_cv(X_train, y_train, model_class, sigma_range, tau_range, n_classes=2, losses=None)"
   ]
  },
  {
   "cell_type": "code",
   "execution_count": 18,
   "id": "203fa13a-36fb-471b-88bc-d65acff814d3",
   "metadata": {},
   "outputs": [
    {
     "data": {
      "text/html": [
       "<div>\n",
       "<style scoped>\n",
       "    .dataframe tbody tr th:only-of-type {\n",
       "        vertical-align: middle;\n",
       "    }\n",
       "\n",
       "    .dataframe tbody tr th {\n",
       "        vertical-align: top;\n",
       "    }\n",
       "\n",
       "    .dataframe thead th {\n",
       "        text-align: right;\n",
       "    }\n",
       "</style>\n",
       "<table border=\"1\" class=\"dataframe\">\n",
       "  <thead>\n",
       "    <tr style=\"text-align: right;\">\n",
       "      <th></th>\n",
       "      <th>Model</th>\n",
       "      <th>Best Sigma</th>\n",
       "      <th>Best Tau</th>\n",
       "      <th>Score</th>\n",
       "      <th>Impovement %</th>\n",
       "    </tr>\n",
       "  </thead>\n",
       "  <tbody>\n",
       "    <tr>\n",
       "      <th>0</th>\n",
       "      <td>GRNN</td>\n",
       "      <td>0.6</td>\n",
       "      <td>NaN</td>\n",
       "      <td>142.183214</td>\n",
       "      <td>0.00</td>\n",
       "    </tr>\n",
       "    <tr>\n",
       "      <th>1</th>\n",
       "      <td>GRNN with L1</td>\n",
       "      <td>0.6</td>\n",
       "      <td>0.9</td>\n",
       "      <td>136.046653</td>\n",
       "      <td>4.51</td>\n",
       "    </tr>\n",
       "    <tr>\n",
       "      <th>2</th>\n",
       "      <td>GRNN with L2</td>\n",
       "      <td>0.6</td>\n",
       "      <td>1.3</td>\n",
       "      <td>137.250853</td>\n",
       "      <td>3.59</td>\n",
       "    </tr>\n",
       "  </tbody>\n",
       "</table>\n",
       "</div>"
      ],
      "text/plain": [
       "          Model  Best Sigma  Best Tau       Score  Impovement %\n",
       "0          GRNN         0.6       NaN  142.183214          0.00\n",
       "1  GRNN with L1         0.6       0.9  136.046653          4.51\n",
       "2  GRNN with L2         0.6       1.3  137.250853          3.59"
      ]
     },
     "execution_count": 18,
     "metadata": {},
     "output_type": "execute_result"
    }
   ],
   "source": [
    "results_df = pd.DataFrame(evals)\n",
    "results_df['Impovement %'] = np.round((results_df['Score'].iloc[0] / results_df['Score']) * 100, 2) - 100\n",
    "results_df"
   ]
  },
  {
   "cell_type": "code",
   "execution_count": 19,
   "id": "335ca2e5-0042-4989-b4f8-39bca8475ae2",
   "metadata": {},
   "outputs": [],
   "source": [
    "stock_portfolio_performance = fetch_ucirepo(id=390)\n",
    "  \n",
    "X = stock_portfolio_performance.data.features.iloc[:, :-6]\n",
    "y_train = stock_portfolio_performance.data.targets['Excess Return'].apply(lambda x: float(x[:-1])).to_numpy()\n",
    "\n",
    "scaler = StandardScaler()\n",
    "X_train = scaler.fit_transform(X)"
   ]
  },
  {
   "cell_type": "code",
   "execution_count": 20,
   "id": "ddd12bb4-3229-45c1-a4db-7dea7f422a26",
   "metadata": {},
   "outputs": [
    {
     "name": "stdout",
     "output_type": "stream",
     "text": [
      "Best sigma found: 5.0 (Score: 6.7776)\n"
     ]
    }
   ],
   "source": [
    "model_class = GRNN\n",
    "sigma_range = np.round(np.arange(0.1, 5.1, 0.1), 2)\n",
    "tau_range = np.round(np.arange(0.1, 5.1, 0.1), 2)\n",
    "\n",
    "evals = grid_search_cv(X_train, y_train, model_class, sigma_range, tau_range, n_classes=2, losses=None)"
   ]
  },
  {
   "cell_type": "code",
   "execution_count": 21,
   "id": "0bb15a7e-e162-403c-8747-46532b88690e",
   "metadata": {},
   "outputs": [
    {
     "data": {
      "text/html": [
       "<div>\n",
       "<style scoped>\n",
       "    .dataframe tbody tr th:only-of-type {\n",
       "        vertical-align: middle;\n",
       "    }\n",
       "\n",
       "    .dataframe tbody tr th {\n",
       "        vertical-align: top;\n",
       "    }\n",
       "\n",
       "    .dataframe thead th {\n",
       "        text-align: right;\n",
       "    }\n",
       "</style>\n",
       "<table border=\"1\" class=\"dataframe\">\n",
       "  <thead>\n",
       "    <tr style=\"text-align: right;\">\n",
       "      <th></th>\n",
       "      <th>Model</th>\n",
       "      <th>Best Sigma</th>\n",
       "      <th>Best Tau</th>\n",
       "      <th>Score</th>\n",
       "      <th>Impovement %</th>\n",
       "    </tr>\n",
       "  </thead>\n",
       "  <tbody>\n",
       "    <tr>\n",
       "      <th>0</th>\n",
       "      <td>GRNN</td>\n",
       "      <td>5.0</td>\n",
       "      <td>NaN</td>\n",
       "      <td>6.777578</td>\n",
       "      <td>0.00</td>\n",
       "    </tr>\n",
       "    <tr>\n",
       "      <th>1</th>\n",
       "      <td>GRNN with L1</td>\n",
       "      <td>5.0</td>\n",
       "      <td>4.0</td>\n",
       "      <td>5.788518</td>\n",
       "      <td>17.09</td>\n",
       "    </tr>\n",
       "    <tr>\n",
       "      <th>2</th>\n",
       "      <td>GRNN with L2</td>\n",
       "      <td>5.0</td>\n",
       "      <td>3.6</td>\n",
       "      <td>6.125985</td>\n",
       "      <td>10.64</td>\n",
       "    </tr>\n",
       "  </tbody>\n",
       "</table>\n",
       "</div>"
      ],
      "text/plain": [
       "          Model  Best Sigma  Best Tau     Score  Impovement %\n",
       "0          GRNN         5.0       NaN  6.777578          0.00\n",
       "1  GRNN with L1         5.0       4.0  5.788518         17.09\n",
       "2  GRNN with L2         5.0       3.6  6.125985         10.64"
      ]
     },
     "execution_count": 21,
     "metadata": {},
     "output_type": "execute_result"
    }
   ],
   "source": [
    "results_df = pd.DataFrame(evals)\n",
    "results_df['Impovement %'] = np.round((results_df['Score'].iloc[0] / results_df['Score']) * 100, 2) - 100\n",
    "results_df"
   ]
  },
  {
   "cell_type": "code",
   "execution_count": null,
   "id": "f3109124-5b6d-40a5-b2a8-9fd60baa63e2",
   "metadata": {},
   "outputs": [],
   "source": []
  },
  {
   "cell_type": "code",
   "execution_count": null,
   "id": "848c6702-a548-4352-a8dc-3e0c95cae7e8",
   "metadata": {},
   "outputs": [],
   "source": []
  }
 ],
 "metadata": {
  "kernelspec": {
   "display_name": "Python [conda env:base] *",
   "language": "python",
   "name": "conda-base-py"
  },
  "language_info": {
   "codemirror_mode": {
    "name": "ipython",
    "version": 3
   },
   "file_extension": ".py",
   "mimetype": "text/x-python",
   "name": "python",
   "nbconvert_exporter": "python",
   "pygments_lexer": "ipython3",
   "version": "3.12.7"
  }
 },
 "nbformat": 4,
 "nbformat_minor": 5
}
