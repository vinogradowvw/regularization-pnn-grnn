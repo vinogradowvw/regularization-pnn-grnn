{
 "cells": [
  {
   "cell_type": "code",
   "execution_count": 37,
   "id": "9db9fd7c-2cda-4688-a10b-1e71380f7a50",
   "metadata": {},
   "outputs": [],
   "source": [
    "komedie = c(83, 74, 79, 75, 87)\n",
    "drama = c(87, 86, 80, 72, 84)\n",
    "horor = c(80, 92, 81, 65, 77)\n",
    "\n",
    "df = data.frame('type'=factor(rep(c('komedie', 'drama', 'horor'), each=length(horor))),\n",
    "                'val'=c(komedie, drama, horor))"
   ]
  },
  {
   "cell_type": "code",
   "execution_count": 39,
   "id": "1f00161b-2d97-4281-afa4-c1f7685b5587",
   "metadata": {},
   "outputs": [
    {
     "data": {
      "text/html": [
       "<table class=\"dataframe\">\n",
       "<caption>A data.frame: 15 × 2</caption>\n",
       "<thead>\n",
       "\t<tr><th scope=col>type</th><th scope=col>val</th></tr>\n",
       "\t<tr><th scope=col>&lt;fct&gt;</th><th scope=col>&lt;dbl&gt;</th></tr>\n",
       "</thead>\n",
       "<tbody>\n",
       "\t<tr><td>komedie</td><td>83</td></tr>\n",
       "\t<tr><td>komedie</td><td>74</td></tr>\n",
       "\t<tr><td>komedie</td><td>79</td></tr>\n",
       "\t<tr><td>komedie</td><td>75</td></tr>\n",
       "\t<tr><td>komedie</td><td>87</td></tr>\n",
       "\t<tr><td>drama  </td><td>87</td></tr>\n",
       "\t<tr><td>drama  </td><td>86</td></tr>\n",
       "\t<tr><td>drama  </td><td>80</td></tr>\n",
       "\t<tr><td>drama  </td><td>72</td></tr>\n",
       "\t<tr><td>drama  </td><td>84</td></tr>\n",
       "\t<tr><td>horor  </td><td>80</td></tr>\n",
       "\t<tr><td>horor  </td><td>92</td></tr>\n",
       "\t<tr><td>horor  </td><td>81</td></tr>\n",
       "\t<tr><td>horor  </td><td>65</td></tr>\n",
       "\t<tr><td>horor  </td><td>77</td></tr>\n",
       "</tbody>\n",
       "</table>\n"
      ],
      "text/latex": [
       "A data.frame: 15 × 2\n",
       "\\begin{tabular}{ll}\n",
       " type & val\\\\\n",
       " <fct> & <dbl>\\\\\n",
       "\\hline\n",
       "\t komedie & 83\\\\\n",
       "\t komedie & 74\\\\\n",
       "\t komedie & 79\\\\\n",
       "\t komedie & 75\\\\\n",
       "\t komedie & 87\\\\\n",
       "\t drama   & 87\\\\\n",
       "\t drama   & 86\\\\\n",
       "\t drama   & 80\\\\\n",
       "\t drama   & 72\\\\\n",
       "\t drama   & 84\\\\\n",
       "\t horor   & 80\\\\\n",
       "\t horor   & 92\\\\\n",
       "\t horor   & 81\\\\\n",
       "\t horor   & 65\\\\\n",
       "\t horor   & 77\\\\\n",
       "\\end{tabular}\n"
      ],
      "text/markdown": [
       "\n",
       "A data.frame: 15 × 2\n",
       "\n",
       "| type &lt;fct&gt; | val &lt;dbl&gt; |\n",
       "|---|---|\n",
       "| komedie | 83 |\n",
       "| komedie | 74 |\n",
       "| komedie | 79 |\n",
       "| komedie | 75 |\n",
       "| komedie | 87 |\n",
       "| drama   | 87 |\n",
       "| drama   | 86 |\n",
       "| drama   | 80 |\n",
       "| drama   | 72 |\n",
       "| drama   | 84 |\n",
       "| horor   | 80 |\n",
       "| horor   | 92 |\n",
       "| horor   | 81 |\n",
       "| horor   | 65 |\n",
       "| horor   | 77 |\n",
       "\n"
      ],
      "text/plain": [
       "   type    val\n",
       "1  komedie 83 \n",
       "2  komedie 74 \n",
       "3  komedie 79 \n",
       "4  komedie 75 \n",
       "5  komedie 87 \n",
       "6  drama   87 \n",
       "7  drama   86 \n",
       "8  drama   80 \n",
       "9  drama   72 \n",
       "10 drama   84 \n",
       "11 horor   80 \n",
       "12 horor   92 \n",
       "13 horor   81 \n",
       "14 horor   65 \n",
       "15 horor   77 "
      ]
     },
     "metadata": {},
     "output_type": "display_data"
    }
   ],
   "source": [
    "df"
   ]
  },
  {
   "cell_type": "code",
   "execution_count": 45,
   "id": "37d1f2f7-ecdb-4286-81dc-6769ce4a14fe",
   "metadata": {},
   "outputs": [
    {
     "data": {
      "text/plain": [
       "            Df Sum Sq Mean Sq F value Pr(>F)\n",
       "type         2   21.7   10.87   0.203  0.819\n",
       "Residuals   12  642.0   53.50               "
      ]
     },
     "metadata": {},
     "output_type": "display_data"
    }
   ],
   "source": [
    "summary(aov(val ~ type, df))"
   ]
  },
  {
   "cell_type": "code",
   "execution_count": 49,
   "id": "8870221a-c847-42a9-b548-74751339a4e6",
   "metadata": {},
   "outputs": [],
   "source": [
    "m_k = mean(komedie)\n",
    "m_d = mean(drama)\n",
    "m_h = mean(horor)"
   ]
  },
  {
   "cell_type": "code",
   "execution_count": 53,
   "id": "6a853691-16fa-4df8-bbeb-0d3b9c59de59",
   "metadata": {},
   "outputs": [],
   "source": [
    "M = mean(c(komedie, drama, horor))"
   ]
  },
  {
   "cell_type": "code",
   "execution_count": 111,
   "id": "5767a73a-c512-42d4-be6f-f94dc3075a86",
   "metadata": {},
   "outputs": [],
   "source": [
    "SSm = 5 * ((M - m_k)**2 + (M - m_d)**2 + (M - m_h)**2)"
   ]
  },
  {
   "cell_type": "code",
   "execution_count": 113,
   "id": "e7423200-4f85-4c45-9165-6133f087c52b",
   "metadata": {},
   "outputs": [],
   "source": [
    "SSv = sum((c(komedie, drama, horor) - rep(c(m_k, m_d, m_h), each=5))**2)"
   ]
  },
  {
   "cell_type": "code",
   "execution_count": 115,
   "id": "6b2c6860-9314-4ef8-84c9-008e7a1ffb6c",
   "metadata": {},
   "outputs": [],
   "source": [
    "MSm = SSm / 2\n",
    "MSv = SSv / 12"
   ]
  },
  {
   "cell_type": "code",
   "execution_count": 141,
   "id": "fe4cb8e2-e303-4ac3-949c-e5c2ef4c273c",
   "metadata": {},
   "outputs": [
    {
     "data": {
      "text/html": [
       "0.203115264797508"
      ],
      "text/latex": [
       "0.203115264797508"
      ],
      "text/markdown": [
       "0.203115264797508"
      ],
      "text/plain": [
       "[1] 0.2031153"
      ]
     },
     "metadata": {},
     "output_type": "display_data"
    }
   ],
   "source": [
    "F"
   ]
  },
  {
   "cell_type": "code",
   "execution_count": 161,
   "id": "4b1986e1-c640-4299-9808-9c6337e95684",
   "metadata": {},
   "outputs": [],
   "source": [
    "F = MSm / MSv"
   ]
  },
  {
   "cell_type": "code",
   "execution_count": 163,
   "id": "8025e79d-3c5b-4f47-9e10-41f3c654ee66",
   "metadata": {},
   "outputs": [
    {
     "data": {
      "text/html": [
       "0.818933043719058"
      ],
      "text/latex": [
       "0.818933043719058"
      ],
      "text/markdown": [
       "0.818933043719058"
      ],
      "text/plain": [
       "[1] 0.818933"
      ]
     },
     "metadata": {},
     "output_type": "display_data"
    }
   ],
   "source": [
    "1 - pf(F, df1 = 2, df2 = 12)"
   ]
  },
  {
   "cell_type": "code",
   "execution_count": null,
   "id": "4c7798e8-9a8d-488d-8ca5-4adec5cc3ea6",
   "metadata": {},
   "outputs": [],
   "source": []
  },
  {
   "cell_type": "code",
   "execution_count": null,
   "id": "2a4931bd-608c-4fa4-a16c-3930a9582727",
   "metadata": {},
   "outputs": [],
   "source": []
  },
  {
   "cell_type": "code",
   "execution_count": null,
   "id": "a09966fa-1d64-4d5d-a127-50dc9664785b",
   "metadata": {},
   "outputs": [],
   "source": []
  },
  {
   "cell_type": "code",
   "execution_count": 173,
   "id": "0e328760-ae29-4958-8e2f-d3a99d1b18f7",
   "metadata": {},
   "outputs": [],
   "source": [
    "N = 50\n",
    "mu = 5.3\n",
    "s = 0.04\n",
    "\n",
    "S2 = 0.09"
   ]
  },
  {
   "cell_type": "code",
   "execution_count": null,
   "id": "e923295c-aedc-4d40-87ad-9db8929127c0",
   "metadata": {},
   "outputs": [],
   "source": []
  }
 ],
 "metadata": {
  "kernelspec": {
   "display_name": "R",
   "language": "R",
   "name": "ir"
  },
  "language_info": {
   "codemirror_mode": "r",
   "file_extension": ".r",
   "mimetype": "text/x-r-source",
   "name": "R",
   "pygments_lexer": "r",
   "version": "4.4.1"
  }
 },
 "nbformat": 4,
 "nbformat_minor": 5
}
