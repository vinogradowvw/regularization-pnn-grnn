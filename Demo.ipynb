{
 "cells": [
  {
   "cell_type": "code",
   "execution_count": 6,
   "id": "cac82faf-9243-419f-baeb-fa976b65a618",
   "metadata": {},
   "outputs": [],
   "source": [
    "import numpy as np\n",
    "import pandas as pd\n",
    "from Kernels.GaussianKernel import GaussianKernel\n",
    "from base.Layers import PatternLayer, SummationLayerPNN\n",
    "from base.Layers.RegularizationLayer import RegularizationLayer\n",
    "from sklearn.datasets import make_classification\n",
    "from sklearn.model_selection import train_test_split\n",
    "from base.Layers.OutputLayerPNN import OutputLayerPNN\n",
    "from PNN import PNN\n",
    "import seaborn as sns\n",
    "import matplotlib.pyplot as plt"
   ]
  },
  {
   "cell_type": "code",
   "execution_count": 7,
   "id": "9c05e25f-e023-4c0b-b760-f4c25695ee58",
   "metadata": {},
   "outputs": [
    {
     "name": "stdout",
     "output_type": "stream",
     "text": [
      "\\begin{tabular}{lrrr}\n",
      "\\toprule\n",
      " & Feature 1 & Feature 2 & Class \\\\\n",
      "\\midrule\n",
      "0 & -22 & -19 & 0 \\\\\n",
      "1 & -15 & -13 & 0 \\\\\n",
      "2 & -9 & -7 & 0 \\\\\n",
      "3 & -5 & -4 & 0 \\\\\n",
      "4 & -11 & -10 & 0 \\\\\n",
      "5 & -14 & -9 & 0 \\\\\n",
      "6 & -10 & -6 & 0 \\\\\n",
      "7 & -24 & -24 & 0 \\\\\n",
      "8 & 4 & 0 & 1 \\\\\n",
      "9 & 0 & -10 & 1 \\\\\n",
      "10 & 9 & -6 & 1 \\\\\n",
      "11 & 22 & -2 & 1 \\\\\n",
      "12 & 4 & -7 & 1 \\\\\n",
      "13 & 2 & -13 & 1 \\\\\n",
      "14 & 17 & -16 & 1 \\\\\n",
      "\\bottomrule\n",
      "\\end{tabular}\n",
      "\n"
     ]
    }
   ],
   "source": [
    "X, y = make_classification(\n",
    "    n_samples=30,\n",
    "    n_features=2,\n",
    "    n_informative=2,\n",
    "    n_redundant=0,\n",
    "    n_clusters_per_class=1,\n",
    "    n_classes=2,\n",
    "    class_sep=1,\n",
    "    random_state=300\n",
    ")\n",
    "\n",
    "X = np.round(X * 10, 0)\n",
    "\n",
    "X_train, X_test, y_train, y_test = train_test_split(X, y, test_size=0.5, random_state=42)\n",
    "\n",
    "df = pd.DataFrame(X_train, columns=['Feature 1', 'Feature 2'])\n",
    "df['Class'] = y_train\n",
    "\n",
    "\n",
    "print(df.sort_values(by='Class', ignore_index=True).astype(int).to_latex())"
   ]
  },
  {
   "cell_type": "code",
   "execution_count": 8,
   "id": "67bcb64e-4891-471e-855a-22b830fd06e4",
   "metadata": {},
   "outputs": [],
   "source": [
    "input_vec = np.array([-11, -7])"
   ]
  },
  {
   "cell_type": "code",
   "execution_count": 9,
   "id": "85ccaade-2313-4dea-938c-a4d4cc1334cc",
   "metadata": {},
   "outputs": [
    {
     "data": {
      "image/png": "[encoded data removed]",
      "text/plain": [
       "<Figure size 640x480 with 1 Axes>"
      ]
     },
     "metadata": {},
     "output_type": "display_data"
    }
   ],
   "source": [
    "sns.scatterplot(df, x='Feature 1', y='Feature 2', hue='Class')\n",
    "plt.scatter(input_vec[0], input_vec[1], color='red', marker='^', s=100, label='Input vector')\n",
    "plt.legend()\n",
    "plt.savefig('input-demo')\n",
    "plt.show()\n"
   ]
  },
  {
   "cell_type": "code",
   "execution_count": 10,
   "id": "522b041b-b018-4fd3-8368-f327255db2b7",
   "metadata": {},
   "outputs": [],
   "source": [
    "pattern_layer = PatternLayer(GaussianKernel(0.5))\n",
    "sum_layer = SummationLayerPNN([0, 1])\n",
    "reg_layer_l1 = RegularizationLayer(regularization_type='l1',\n",
    "                                      tau=10)\n",
    "reg_layer_l2 = RegularizationLayer(regularization_type='l2',\n",
    "                                      tau=10)\n",
    "output_layer = OutputLayerPNN([1, 1])"
   ]
  },
  {
   "cell_type": "code",
   "execution_count": 11,
   "id": "8b38c720-aa81-4170-a6ad-6e010933fd8a",
   "metadata": {},
   "outputs": [],
   "source": [
    "pattern_layer.fit(X_train, y_train)\n",
    "output_layer.fit(X_train, y_train)"
   ]
  },
  {
   "cell_type": "code",
   "execution_count": 12,
   "id": "08b4b81b-c1a8-4fdd-ae06-0e07fc3cdbf5",
   "metadata": {},
   "outputs": [],
   "source": [
    "k, y, d = pattern_layer.forward(input_vec)"
   ]
  },
  {
   "cell_type": "code",
   "execution_count": 13,
   "id": "866dad16-63dd-4d7a-8c3a-f931905fb6bb",
   "metadata": {},
   "outputs": [
    {
     "data": {
      "text/html": [
       "<div>\n",
       "<style scoped>\n",
       "    .dataframe tbody tr th:only-of-type {\n",
       "        vertical-align: middle;\n",
       "    }\n",
       "\n",
       "    .dataframe tbody tr th {\n",
       "        vertical-align: top;\n",
       "    }\n",
       "\n",
       "    .dataframe thead th {\n",
       "        text-align: right;\n",
       "    }\n",
       "</style>\n",
       "<table border=\"1\" class=\"dataframe\">\n",
       "  <thead>\n",
       "    <tr style=\"text-align: right;\">\n",
       "      <th></th>\n",
       "      <th>Feature 1</th>\n",
       "      <th>Feature 2</th>\n",
       "      <th>Kernel value</th>\n",
       "      <th>Class</th>\n",
       "      <th>Distance</th>\n",
       "    </tr>\n",
       "  </thead>\n",
       "  <tbody>\n",
       "    <tr>\n",
       "      <th>0</th>\n",
       "      <td>-22.0</td>\n",
       "      <td>-19.0</td>\n",
       "      <td>6.666910e-231</td>\n",
       "      <td>0</td>\n",
       "      <td>16.278821</td>\n",
       "    </tr>\n",
       "    <tr>\n",
       "      <th>1</th>\n",
       "      <td>-15.0</td>\n",
       "      <td>-13.0</td>\n",
       "      <td>6.813557e-46</td>\n",
       "      <td>0</td>\n",
       "      <td>7.211103</td>\n",
       "    </tr>\n",
       "    <tr>\n",
       "      <th>2</th>\n",
       "      <td>-9.0</td>\n",
       "      <td>-7.0</td>\n",
       "      <td>3.354626e-04</td>\n",
       "      <td>0</td>\n",
       "      <td>2.000000</td>\n",
       "    </tr>\n",
       "    <tr>\n",
       "      <th>3</th>\n",
       "      <td>-5.0</td>\n",
       "      <td>-4.0</td>\n",
       "      <td>8.194013e-40</td>\n",
       "      <td>0</td>\n",
       "      <td>6.708204</td>\n",
       "    </tr>\n",
       "    <tr>\n",
       "      <th>4</th>\n",
       "      <td>-11.0</td>\n",
       "      <td>-10.0</td>\n",
       "      <td>1.522998e-08</td>\n",
       "      <td>0</td>\n",
       "      <td>3.000000</td>\n",
       "    </tr>\n",
       "    <tr>\n",
       "      <th>5</th>\n",
       "      <td>-14.0</td>\n",
       "      <td>-9.0</td>\n",
       "      <td>5.109089e-12</td>\n",
       "      <td>0</td>\n",
       "      <td>3.605551</td>\n",
       "    </tr>\n",
       "    <tr>\n",
       "      <th>6</th>\n",
       "      <td>-10.0</td>\n",
       "      <td>-6.0</td>\n",
       "      <td>1.831564e-02</td>\n",
       "      <td>0</td>\n",
       "      <td>1.414214</td>\n",
       "    </tr>\n",
       "    <tr>\n",
       "      <th>7</th>\n",
       "      <td>-24.0</td>\n",
       "      <td>-24.0</td>\n",
       "      <td>0.000000e+00</td>\n",
       "      <td>0</td>\n",
       "      <td>21.400935</td>\n",
       "    </tr>\n",
       "    <tr>\n",
       "      <th>8</th>\n",
       "      <td>4.0</td>\n",
       "      <td>0.0</td>\n",
       "      <td>1.015369e-238</td>\n",
       "      <td>1</td>\n",
       "      <td>16.552945</td>\n",
       "    </tr>\n",
       "    <tr>\n",
       "      <th>9</th>\n",
       "      <td>-0.0</td>\n",
       "      <td>-10.0</td>\n",
       "      <td>1.211810e-113</td>\n",
       "      <td>1</td>\n",
       "      <td>11.401754</td>\n",
       "    </tr>\n",
       "    <tr>\n",
       "      <th>10</th>\n",
       "      <td>9.0</td>\n",
       "      <td>-6.0</td>\n",
       "      <td>0.000000e+00</td>\n",
       "      <td>1</td>\n",
       "      <td>20.024984</td>\n",
       "    </tr>\n",
       "    <tr>\n",
       "      <th>11</th>\n",
       "      <td>22.0</td>\n",
       "      <td>-2.0</td>\n",
       "      <td>0.000000e+00</td>\n",
       "      <td>1</td>\n",
       "      <td>33.376639</td>\n",
       "    </tr>\n",
       "    <tr>\n",
       "      <th>12</th>\n",
       "      <td>4.0</td>\n",
       "      <td>-7.0</td>\n",
       "      <td>3.693883e-196</td>\n",
       "      <td>1</td>\n",
       "      <td>15.000000</td>\n",
       "    </tr>\n",
       "    <tr>\n",
       "      <th>13</th>\n",
       "      <td>2.0</td>\n",
       "      <td>-13.0</td>\n",
       "      <td>8.694857e-179</td>\n",
       "      <td>1</td>\n",
       "      <td>14.317821</td>\n",
       "    </tr>\n",
       "    <tr>\n",
       "      <th>14</th>\n",
       "      <td>17.0</td>\n",
       "      <td>-16.0</td>\n",
       "      <td>0.000000e+00</td>\n",
       "      <td>1</td>\n",
       "      <td>29.410882</td>\n",
       "    </tr>\n",
       "  </tbody>\n",
       "</table>\n",
       "</div>"
      ],
      "text/plain": [
       "    Feature 1  Feature 2   Kernel value  Class   Distance\n",
       "0       -22.0      -19.0  6.666910e-231      0  16.278821\n",
       "1       -15.0      -13.0   6.813557e-46      0   7.211103\n",
       "2        -9.0       -7.0   3.354626e-04      0   2.000000\n",
       "3        -5.0       -4.0   8.194013e-40      0   6.708204\n",
       "4       -11.0      -10.0   1.522998e-08      0   3.000000\n",
       "5       -14.0       -9.0   5.109089e-12      0   3.605551\n",
       "6       -10.0       -6.0   1.831564e-02      0   1.414214\n",
       "7       -24.0      -24.0   0.000000e+00      0  21.400935\n",
       "8         4.0        0.0  1.015369e-238      1  16.552945\n",
       "9        -0.0      -10.0  1.211810e-113      1  11.401754\n",
       "10        9.0       -6.0   0.000000e+00      1  20.024984\n",
       "11       22.0       -2.0   0.000000e+00      1  33.376639\n",
       "12        4.0       -7.0  3.693883e-196      1  15.000000\n",
       "13        2.0      -13.0  8.694857e-179      1  14.317821\n",
       "14       17.0      -16.0   0.000000e+00      1  29.410882"
      ]
     },
     "execution_count": 13,
     "metadata": {},
     "output_type": "execute_result"
    }
   ],
   "source": [
    "X_0 = X_train[y_train == 0]\n",
    "X_1 = X_train[y_train == 1]\n",
    "X = np.append(X_0, X_1, axis=0).T\n",
    "pd.DataFrame({'Feature 1': X[0], 'Feature 2': X[1], 'Kernel value': k, 'Class': y, 'Distance': d})"
   ]
  },
  {
   "cell_type": "code",
   "execution_count": 14,
   "id": "d6c96852-bd46-468e-896c-905d18a471fc",
   "metadata": {},
   "outputs": [],
   "source": [
    "adjusted_k_l1, y, priors_l1 = reg_layer_l1.forward(k, y, d)\n",
    "adjusted_k_l2, y, priors_l2 = reg_layer_l2.forward(k, y, d)"
   ]
  },
  {
   "cell_type": "code",
   "execution_count": 15,
   "id": "27bcac68-a3d1-4377-b920-e90b67e72a85",
   "metadata": {},
   "outputs": [],
   "source": [
    "data_df = pd.DataFrame({'Feature 1': np.int8(X[0]),\n",
    "                        'Feature 2': np.int8(X[1]),\n",
    "                        'Kernel value': k, \n",
    "                        'Distance': d,\n",
    "                        'L1 Prior': priors_l1,\n",
    "                        'L2 Prior': priors_l2,\n",
    "                        'Weighted kernel value': adjusted_k_l1,\n",
    "                        'Class': y})\n",
    "\n"
   ]
  },
  {
   "cell_type": "code",
   "execution_count": 19,
   "id": "0de4e47c-0082-44a6-b089-005495b7a7a4",
   "metadata": {},
   "outputs": [
    {
     "name": "stdout",
     "output_type": "stream",
     "text": [
      "\\begin{tabular}{lrrrrrr}\n",
      "\\toprule\n",
      " & Feature 1 & Feature 2 & Distance & L1 Prior & L2 Prior & Class \\\\\n",
      "\\midrule\n",
      "0 & -22 & -19 & 16.28 & 0.20 & 0.27 & 0 \\\\\n",
      "1 & -15 & -13 & 7.21 & 0.49 & 0.77 & 0 \\\\\n",
      "2 & -9 & -7 & 2.00 & 0.82 & 0.98 & 0 \\\\\n",
      "3 & -5 & -4 & 6.71 & 0.51 & 0.80 & 0 \\\\\n",
      "4 & -11 & -10 & 3.00 & 0.74 & 0.96 & 0 \\\\\n",
      "5 & -14 & -9 & 3.61 & 0.70 & 0.94 & 0 \\\\\n",
      "6 & -10 & -6 & 1.41 & 0.87 & 0.99 & 0 \\\\\n",
      "7 & -24 & -24 & 21.40 & 0.12 & 0.10 & 0 \\\\\n",
      "8 & 4 & 0 & 16.55 & 0.19 & 0.25 & 1 \\\\\n",
      "9 & 0 & -10 & 11.40 & 0.32 & 0.52 & 1 \\\\\n",
      "10 & 9 & -6 & 20.02 & 0.13 & 0.13 & 1 \\\\\n",
      "11 & 22 & -2 & 33.38 & 0.04 & 0.00 & 1 \\\\\n",
      "12 & 4 & -7 & 15.00 & 0.22 & 0.32 & 1 \\\\\n",
      "13 & 2 & -13 & 14.32 & 0.24 & 0.36 & 1 \\\\\n",
      "14 & 17 & -16 & 29.41 & 0.05 & 0.01 & 1 \\\\\n",
      "\\bottomrule\n",
      "\\end{tabular}\n",
      "\n"
     ]
    }
   ],
   "source": [
    "print(data_df.drop(columns=['Kernel value', 'Weighted kernel value']).to_latex(float_format=\"{:.2f}\".format))"
   ]
  },
  {
   "cell_type": "code",
   "execution_count": 20,
   "id": "986356e9-a15a-44cb-a7d1-7368f0fd15ce",
   "metadata": {},
   "outputs": [
    {
     "data": {
      "image/png": "[encoded data removed]",
      "text/plain": [
       "<Figure size 640x480 with 1 Axes>"
      ]
     },
     "metadata": {},
     "output_type": "display_data"
    }
   ],
   "source": [
    "plot = sns.scatterplot(data=data_df,\n",
    "                       x='Feature 1',\n",
    "                       y='Feature 2',\n",
    "                       hue='Class',\n",
    "                       size=data_df['L2 Prior'],\n",
    "                       sizes=(10, 130))\n",
    "\n",
    "input_handle = plt.scatter(input_vec[0], input_vec[1],\n",
    "                           color='red', marker='^', s=100,\n",
    "                           label='Input vector')\n",
    "\n",
    "handles, labels = plot.get_legend_handles_labels()\n",
    "\n",
    "n_classes = data_df['Class'].nunique()\n",
    "new_handles = handles[1:n_classes + 1]\n",
    "new_labels = labels[1:n_classes + 1]\n",
    "\n",
    "new_handles.append(input_handle)\n",
    "new_labels.append('Input vector')\n",
    "\n",
    "plt.legend(new_handles, new_labels)\n",
    "plt.savefig('l2weighted')\n",
    "plt.show()"
   ]
  },
  {
   "cell_type": "code",
   "execution_count": 27,
   "id": "79687be8-f5f8-4146-8561-b0f3cf335c8a",
   "metadata": {},
   "outputs": [
    {
     "data": {
      "image/png": "[encoded data removed]",
      "text/plain": [
       "<Figure size 640x480 with 1 Axes>"
      ]
     },
     "metadata": {},
     "output_type": "display_data"
    }
   ],
   "source": [
    "plot = sns.scatterplot(data=data_df,\n",
    "                       x='Feature 1',\n",
    "                       y='Feature 2',\n",
    "                       hue='Class',\n",
    "                       size=data_df['L1 Prior'],\n",
    "                       sizes=(10, 130))\n",
    "\n",
    "input_handle = plt.scatter(input_vec[0], input_vec[1],\n",
    "                           color='red', marker='^', s=100,\n",
    "                           label='Input vector')\n",
    "\n",
    "handles, labels = plot.get_legend_handles_labels()\n",
    "\n",
    "n_classes = data_df['Class'].nunique()\n",
    "new_handles = handles[1:n_classes + 1]\n",
    "new_labels = labels[1:n_classes + 1]\n",
    "\n",
    "new_handles.append(input_handle)\n",
    "new_labels.append('Input vector')\n",
    "\n",
    "plt.legend(new_handles, new_labels)\n",
    "plt.savefig('l1weighted')\n",
    "plt.show()"
   ]
  },
  {
   "cell_type": "code",
   "execution_count": 28,
   "id": "fdfdd590-52b5-4004-8589-0feacc7e2b5d",
   "metadata": {},
   "outputs": [],
   "source": [
    "pnn_reg = PNN(kernel='gaussian',\n",
    "              sigma=0.5,\n",
    "              n_classes=2,\n",
    "              losses=[1, 1],\n",
    "              regularization='l1',\n",
    "              tau=0.5)\n",
    "pnn_reg.fit(X_train, y_train)"
   ]
  },
  {
   "cell_type": "code",
   "execution_count": 29,
   "id": "82e553d0-5165-4c1e-964f-1094d1e2aa63",
   "metadata": {},
   "outputs": [],
   "source": [
    "preds_reg = [pnn_reg.predict(x_test) for x_test in X_test]"
   ]
  },
  {
   "cell_type": "code",
   "execution_count": 30,
   "id": "1602097e-2025-40db-ba50-47c33169de1f",
   "metadata": {},
   "outputs": [],
   "source": [
    "pnn = PNN(kernel='gaussian',\n",
    "          sigma=0.5,\n",
    "          n_classes=2,\n",
    "          losses=[1, 1])\n",
    "pnn.fit(X_train, y_train)"
   ]
  },
  {
   "cell_type": "code",
   "execution_count": 31,
   "id": "f6764dfb-0a4d-421e-9ff9-a43d91befed0",
   "metadata": {},
   "outputs": [],
   "source": [
    "preds = [pnn.predict(x_test) for x_test in X_test]"
   ]
  },
  {
   "cell_type": "code",
   "execution_count": 34,
   "id": "48800ed6-b797-4580-954c-e216305577d8",
   "metadata": {},
   "outputs": [
    {
     "data": {
      "text/plain": [
       "[1, 1, 1, 1, 1, 0, 0, 0, 1, 1, 1, 1, 0, 1, 0]"
      ]
     },
     "execution_count": 34,
     "metadata": {},
     "output_type": "execute_result"
    }
   ],
   "source": [
    "preds"
   ]
  },
  {
   "cell_type": "code",
   "execution_count": 36,
   "id": "23a65663-9e3c-49ff-ba21-7c1fb4e6f19b",
   "metadata": {},
   "outputs": [
    {
     "data": {
      "text/plain": [
       "[1, 1, 1, 1, 1, 0, 0, 0, 1, 1, 1, 1, 0, 1, 0]"
      ]
     },
     "execution_count": 36,
     "metadata": {},
     "output_type": "execute_result"
    }
   ],
   "source": [
    "preds_reg"
   ]
  },
  {
   "cell_type": "code",
   "execution_count": null,
   "id": "0ab2391d-b0ad-4675-a1b4-699935280b16",
   "metadata": {},
   "outputs": [],
   "source": []
  }
 ],
 "metadata": {
  "kernelspec": {
   "display_name": "Python 3 (ipykernel)",
   "language": "python",
   "name": "python3"
  },
  "language_info": {
   "codemirror_mode": {
    "name": "ipython",
    "version": 3
   },
   "file_extension": ".py",
   "mimetype": "text/x-python",
   "name": "python",
   "nbconvert_exporter": "python",
   "pygments_lexer": "ipython3",
   "version": "3.11.5"
  }
 },
 "nbformat": 4,
 "nbformat_minor": 5
}
