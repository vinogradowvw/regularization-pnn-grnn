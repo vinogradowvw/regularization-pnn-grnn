{
 "cells": [
  {
   "cell_type": "code",
   "execution_count": 128,
   "id": "c0560cf5-eeec-487b-9eef-8ca6e345106b",
   "metadata": {},
   "outputs": [],
   "source": [
    "import numpy as np\n",
    "import pandas as pd\n",
    "import matplotlib.pyplot as plt\n",
    "from PNN import PNN\n",
    "from GRNN import GRNN\n",
    "from sklearn.model_selection import ParameterGrid\n",
    "from sklearn.model_selection import KFold\n",
    "from sklearn.preprocessing import StandardScaler\n",
    "\n",
    "from sklearn.datasets import load_diabetes, load_digits\n",
    "from sklearn.datasets import fetch_openml\n",
    "from sklearn.model_selection import train_test_split\n",
    "from sklearn.metrics import accuracy_score, mean_squared_error"
   ]
  },
  {
   "cell_type": "markdown",
   "id": "60133c26-0ba7-4725-9d65-e4cb7d89eb82",
   "metadata": {},
   "source": [
    "## Base Functions"
   ]
  },
  {
   "cell_type": "code",
   "execution_count": 189,
   "id": "c571b8aa-ee2d-4d26-92b8-d69ed284a365",
   "metadata": {},
   "outputs": [],
   "source": [
    "def evaluvate_on_kfold(X, y, model):\n",
    "    \n",
    "    if isinstance(model, GRNN):\n",
    "        score_func = mean_squared_error\n",
    "    else:\n",
    "        score_func = accuracy_score\n",
    "        \n",
    "    kf = KFold(n_splits=3)\n",
    "\n",
    "    scores = []\n",
    "    \n",
    "    for i, (train_index, test_index) in enumerate(kf.split(X)):\n",
    "        X_train, y_train = X[train_index], y[train_index]\n",
    "        X_test, y_test = X[test_index], y[test_index]\n",
    "        \n",
    "        model.fit(X_train, y_train)\n",
    "        preds = [model.predict([x_test]) for x_test in X_test]\n",
    "        \n",
    "        scores.append(score_func(y_true=y_test, y_pred=preds))\n",
    "\n",
    "    return np.mean(scores)"
   ]
  },
  {
   "cell_type": "code",
   "execution_count": 191,
   "id": "34127b7c-674e-4b6f-8a94-fd8c39377c33",
   "metadata": {},
   "outputs": [],
   "source": [
    "def grid_search_cv(X, y, model_class):\n",
    "\n",
    "    model_configs = [\n",
    "        {\"name\": \"No Regularization\", \"regularization\": None},\n",
    "        {\"name\": \"L1 Regularization\", \"regularization\": 'l1'},\n",
    "        {\"name\": \"L2 Regularization\", \"regularization\": 'l2'},\n",
    "        {\"name\": \"L1 Dropout Regularization\", \"regularization\": ['dropout', 'l1']},\n",
    "        {\"name\": \"L2 Dropout Regularization\", \"regularization\": ['dropout', 'l2']},\n",
    "    ]\n",
    "        \n",
    "    results = []\n",
    "    \n",
    "    for config in model_configs:\n",
    "        print(f\"----- Fitting {config['name']} model ----- \")\n",
    "        \n",
    "        tau_range = [round(x * 0.02, 2) for x in range(1, 101)]\n",
    "        sigma_range = [round(x * 0.02, 2) for x in range(1, 101)]\n",
    "        \n",
    "        param_grid = {\"sigma\": sigma_range, \"tau\": tau_range}\n",
    "\n",
    "        if model_class == GRNN:\n",
    "            score_name = 'MSE'\n",
    "            best_score = float(\"inf\")\n",
    "        else:\n",
    "            score_name = 'Accuracy'\n",
    "            best_score = 0\n",
    "            \n",
    "        best_params = {}\n",
    "        \n",
    "        for params in ParameterGrid(param_grid):\n",
    "            sigma = params[\"sigma\"]\n",
    "            tau = params[\"tau\"]\n",
    "\n",
    "            if model_class == GRNN:\n",
    "                model = GRNN(kernel=\"gaussian\", sigma=sigma,\n",
    "                             regularization=config[\"regularization\"],\n",
    "                             tau=tau if config[\"regularization\"] is not None else None)\n",
    "            else:\n",
    "                model = PNN(kernel=\"gaussian\", sigma=sigma,\n",
    "                            regularization=config[\"regularization\"],\n",
    "                            tau=tau if config[\"regularization\"] is not None else None,\n",
    "                            n_classes=2, losses=[1]*2)\n",
    "                \n",
    "            try:\n",
    "                score = evaluvate_on_kfold(X, y, model)\n",
    "                \n",
    "                if model_class == GRNN:\n",
    "                    if score < best_score:\n",
    "                        best_score = score\n",
    "                        best_params = {\"sigma\": sigma, \"tau\": tau}\n",
    "                else:\n",
    "                    if score > best_score:\n",
    "                        best_score = score\n",
    "                        best_params = {\"sigma\": sigma, \"tau\": tau}\n",
    "                        \n",
    "            except (ZeroDivisionError, RuntimeError):\n",
    "                continue\n",
    "                \n",
    "        results.append({\n",
    "            \"Model\": config[\"name\"],\n",
    "            \"Best Sigma\": best_params[\"sigma\"],\n",
    "            \"Best Tau\": best_params[\"tau\"],\n",
    "            score_name: best_score\n",
    "        })\n",
    "        \n",
    "    return results\n"
   ]
  },
  {
   "cell_type": "markdown",
   "id": "3fd8e801-6c16-41f7-9b96-33178d846010",
   "metadata": {},
   "source": [
    "### GRNN - Diabetes Dataset"
   ]
  },
  {
   "cell_type": "code",
   "execution_count": 194,
   "id": "7e7d5555-1437-45db-b43c-ebc509f11a95",
   "metadata": {},
   "outputs": [],
   "source": [
    "data = load_diabetes()"
   ]
  },
  {
   "cell_type": "code",
   "execution_count": 187,
   "id": "d510fb2c-99d4-481e-9329-c79663c78371",
   "metadata": {},
   "outputs": [],
   "source": [
    "X = data['data']\n",
    "y = data['target']\n",
    "scaler = StandardScaler()\n",
    "X_scaled = scaler.fit_transform(X)"
   ]
  },
  {
   "cell_type": "code",
   "execution_count": 146,
   "id": "44ca90ae-7c60-4c10-bd55-fd5e6538b004",
   "metadata": {},
   "outputs": [
    {
     "name": "stdout",
     "output_type": "stream",
     "text": [
      "----- Fitting No Regularization model ----- \n",
      "----- Fitting L1 Regularization model ----- \n",
      "----- Fitting L2 Regularization model ----- \n",
      "----- Fitting L1 Dropout Regularization model ----- \n",
      "----- Fitting L2 Dropout Regularization model ----- \n"
     ]
    }
   ],
   "source": [
    "results = grid_search_cv(X, y, GRNN)"
   ]
  },
  {
   "cell_type": "code",
   "execution_count": 155,
   "id": "c767ad24-45bb-4e46-b553-2591c4e4876c",
   "metadata": {},
   "outputs": [
    {
     "data": {
      "text/plain": [
       "[{'Model': 'No Regularization',\n",
       "  'Best Sigma': 0.2,\n",
       "  'Best Tau': 0.2,\n",
       "  'MSE': np.float64(5150.60173757262)},\n",
       " {'Model': 'L1 Regularization',\n",
       "  'Best Sigma': 0.2,\n",
       "  'Best Tau': 0.2,\n",
       "  'MSE': np.float64(4625.934750969925)},\n",
       " {'Model': 'L2 Regularization',\n",
       "  'Best Sigma': 0.2,\n",
       "  'Best Tau': 0.2,\n",
       "  'MSE': np.float64(4634.149536184986)},\n",
       " {'Model': 'L1 Dropout Regularization',\n",
       "  'Best Sigma': 0.2,\n",
       "  'Best Tau': 0.2,\n",
       "  'MSE': np.float64(4678.159000953518)},\n",
       " {'Model': 'L2 Dropout Regularization',\n",
       "  'Best Sigma': 0.2,\n",
       "  'Best Tau': 0.2,\n",
       "  'MSE': np.float64(4676.6243139907565)}]"
      ]
     },
     "execution_count": 155,
     "metadata": {},
     "output_type": "execute_result"
    }
   ],
   "source": [
    "results"
   ]
  },
  {
   "cell_type": "code",
   "execution_count": 157,
   "id": "79a4fb0f-9bcf-4cf8-934c-07259c19f8ef",
   "metadata": {},
   "outputs": [
    {
     "data": {
      "text/html": [
       "<div>\n",
       "<style scoped>\n",
       "    .dataframe tbody tr th:only-of-type {\n",
       "        vertical-align: middle;\n",
       "    }\n",
       "\n",
       "    .dataframe tbody tr th {\n",
       "        vertical-align: top;\n",
       "    }\n",
       "\n",
       "    .dataframe thead th {\n",
       "        text-align: right;\n",
       "    }\n",
       "</style>\n",
       "<table border=\"1\" class=\"dataframe\">\n",
       "  <thead>\n",
       "    <tr style=\"text-align: right;\">\n",
       "      <th></th>\n",
       "      <th>Model</th>\n",
       "      <th>Best Sigma</th>\n",
       "      <th>Best Tau</th>\n",
       "      <th>MSE</th>\n",
       "      <th>Impovement %</th>\n",
       "    </tr>\n",
       "  </thead>\n",
       "  <tbody>\n",
       "    <tr>\n",
       "      <th>0</th>\n",
       "      <td>No Regularization</td>\n",
       "      <td>0.2</td>\n",
       "      <td>0.2</td>\n",
       "      <td>5150.601738</td>\n",
       "      <td>0.00</td>\n",
       "    </tr>\n",
       "    <tr>\n",
       "      <th>1</th>\n",
       "      <td>L1 Regularization</td>\n",
       "      <td>0.2</td>\n",
       "      <td>0.2</td>\n",
       "      <td>4625.934751</td>\n",
       "      <td>11.34</td>\n",
       "    </tr>\n",
       "    <tr>\n",
       "      <th>2</th>\n",
       "      <td>L2 Regularization</td>\n",
       "      <td>0.2</td>\n",
       "      <td>0.2</td>\n",
       "      <td>4634.149536</td>\n",
       "      <td>11.14</td>\n",
       "    </tr>\n",
       "    <tr>\n",
       "      <th>3</th>\n",
       "      <td>L1 Dropout Regularization</td>\n",
       "      <td>0.2</td>\n",
       "      <td>0.2</td>\n",
       "      <td>4678.159001</td>\n",
       "      <td>10.10</td>\n",
       "    </tr>\n",
       "    <tr>\n",
       "      <th>4</th>\n",
       "      <td>L2 Dropout Regularization</td>\n",
       "      <td>0.2</td>\n",
       "      <td>0.2</td>\n",
       "      <td>4676.624314</td>\n",
       "      <td>10.14</td>\n",
       "    </tr>\n",
       "  </tbody>\n",
       "</table>\n",
       "</div>"
      ],
      "text/plain": [
       "                       Model  Best Sigma  Best Tau          MSE  Impovement %\n",
       "0          No Regularization         0.2       0.2  5150.601738          0.00\n",
       "1          L1 Regularization         0.2       0.2  4625.934751         11.34\n",
       "2          L2 Regularization         0.2       0.2  4634.149536         11.14\n",
       "3  L1 Dropout Regularization         0.2       0.2  4678.159001         10.10\n",
       "4  L2 Dropout Regularization         0.2       0.2  4676.624314         10.14"
      ]
     },
     "execution_count": 157,
     "metadata": {},
     "output_type": "execute_result"
    }
   ],
   "source": [
    "results_df = pd.DataFrame(results)\n",
    "results_df['Impovement %'] = np.round((results_df['MSE'].iloc[0] / results_df['MSE']) * 100, 2) - 100\n",
    "results_df"
   ]
  },
  {
   "cell_type": "raw",
   "id": "a433d1f5-df3f-4e3d-b397-1e41b1aa703a",
   "metadata": {},
   "source": [
    "model = GRNN(kernel=\"gaussian\", sigma=0.,\n",
    "             regularization=\"l1\", tau = 0.2)\n",
    "evaluvate_on_kfold(X, y, model)"
   ]
  },
  {
   "cell_type": "markdown",
   "id": "d6c30f9f-1e6b-4842-8bb4-6369309859e9",
   "metadata": {},
   "source": [
    "### GRNN - Boston Housing"
   ]
  },
  {
   "cell_type": "code",
   "execution_count": 160,
   "id": "279da324-4d35-4498-bf68-ce0e99cef0b9",
   "metadata": {},
   "outputs": [],
   "source": [
    "df = fetch_openml(name=\"boston\", version=1)"
   ]
  },
  {
   "cell_type": "code",
   "execution_count": 161,
   "id": "1a8195f0-3197-4974-ac41-055e83739f41",
   "metadata": {},
   "outputs": [],
   "source": [
    "X = df['data'].astype(np.float64).to_numpy()\n",
    "y = df['target'].to_numpy()\n",
    "scaler = StandardScaler()\n",
    "X_scaled = scaler.fit_transform(X)"
   ]
  },
  {
   "cell_type": "code",
   "execution_count": 162,
   "id": "5b0337fe-2ade-43ca-b87e-5373e667c8af",
   "metadata": {},
   "outputs": [
    {
     "name": "stdout",
     "output_type": "stream",
     "text": [
      "----- Fitting No Regularization model ----- \n"
     ]
    },
    {
     "ename": "KeyboardInterrupt",
     "evalue": "",
     "output_type": "error",
     "traceback": [
      "\u001b[31m---------------------------------------------------------------------------\u001b[39m",
      "\u001b[31mKeyboardInterrupt\u001b[39m                         Traceback (most recent call last)",
      "\u001b[36mCell\u001b[39m\u001b[36m \u001b[39m\u001b[32mIn[162]\u001b[39m\u001b[32m, line 1\u001b[39m\n\u001b[32m----> \u001b[39m\u001b[32m1\u001b[39m results = \u001b[43mgrid_search_cv\u001b[49m\u001b[43m(\u001b[49m\u001b[43mX\u001b[49m\u001b[43m,\u001b[49m\u001b[43m \u001b[49m\u001b[43my\u001b[49m\u001b[43m,\u001b[49m\u001b[43m \u001b[49m\u001b[43mGRNN\u001b[49m\u001b[43m)\u001b[49m\n",
      "\u001b[36mCell\u001b[39m\u001b[36m \u001b[39m\u001b[32mIn[139]\u001b[39m\u001b[32m, line 44\u001b[39m, in \u001b[36mgrid_search_cv\u001b[39m\u001b[34m(X, y, model_class)\u001b[39m\n\u001b[32m     38\u001b[39m     model = PNN(kernel=\u001b[33m\"\u001b[39m\u001b[33mgaussian\u001b[39m\u001b[33m\"\u001b[39m, sigma=sigma,\n\u001b[32m     39\u001b[39m                 regularization=config[\u001b[33m\"\u001b[39m\u001b[33mregularization\u001b[39m\u001b[33m\"\u001b[39m],\n\u001b[32m     40\u001b[39m                 tau=tau \u001b[38;5;28;01mif\u001b[39;00m config[\u001b[33m\"\u001b[39m\u001b[33mregularization\u001b[39m\u001b[33m\"\u001b[39m] \u001b[38;5;129;01mis\u001b[39;00m \u001b[38;5;129;01mnot\u001b[39;00m \u001b[38;5;28;01mNone\u001b[39;00m \u001b[38;5;28;01melse\u001b[39;00m \u001b[38;5;28;01mNone\u001b[39;00m,\n\u001b[32m     41\u001b[39m                 n_classes=\u001b[32m2\u001b[39m, losses=[\u001b[32m1\u001b[39m]*\u001b[32m2\u001b[39m)\n\u001b[32m     43\u001b[39m \u001b[38;5;28;01mtry\u001b[39;00m:\n\u001b[32m---> \u001b[39m\u001b[32m44\u001b[39m     score = \u001b[43mevaluvate_on_kfold\u001b[49m\u001b[43m(\u001b[49m\u001b[43mX\u001b[49m\u001b[43m,\u001b[49m\u001b[43m \u001b[49m\u001b[43my\u001b[49m\u001b[43m,\u001b[49m\u001b[43m \u001b[49m\u001b[43mmodel\u001b[49m\u001b[43m)\u001b[49m\n\u001b[32m     46\u001b[39m     \u001b[38;5;28;01mif\u001b[39;00m model_class == GRNN:\n\u001b[32m     47\u001b[39m         \u001b[38;5;28;01mif\u001b[39;00m score < best_score:\n",
      "\u001b[36mCell\u001b[39m\u001b[36m \u001b[39m\u001b[32mIn[131]\u001b[39m\u001b[32m, line 17\u001b[39m, in \u001b[36mevaluvate_on_kfold\u001b[39m\u001b[34m(X, y, model)\u001b[39m\n\u001b[32m     14\u001b[39m     X_test, y_test = X[test_index], y[test_index]\n\u001b[32m     16\u001b[39m     model.fit(X_train, y_train)\n\u001b[32m---> \u001b[39m\u001b[32m17\u001b[39m     preds = [\u001b[43mmodel\u001b[49m\u001b[43m.\u001b[49m\u001b[43mpredict\u001b[49m\u001b[43m(\u001b[49m\u001b[43m[\u001b[49m\u001b[43mx_test\u001b[49m\u001b[43m]\u001b[49m\u001b[43m)\u001b[49m \u001b[38;5;28;01mfor\u001b[39;00m x_test \u001b[38;5;129;01min\u001b[39;00m X_test]\n\u001b[32m     19\u001b[39m     scores.append(score_func(y_true=y_test, y_pred=preds))\n\u001b[32m     21\u001b[39m \u001b[38;5;28;01mreturn\u001b[39;00m np.mean(scores)\n",
      "\u001b[36mFile \u001b[39m\u001b[32m~/Documents/Projects/regularization-pnn-grnn/GRNN/grnn.py:30\u001b[39m, in \u001b[36mGRNN.predict\u001b[39m\u001b[34m(self, X)\u001b[39m\n\u001b[32m     29\u001b[39m \u001b[38;5;28;01mdef\u001b[39;00m\u001b[38;5;250m \u001b[39m\u001b[34mpredict\u001b[39m(\u001b[38;5;28mself\u001b[39m, X):\n\u001b[32m---> \u001b[39m\u001b[32m30\u001b[39m     k, y, d = \u001b[38;5;28;43mself\u001b[39;49m\u001b[43m.\u001b[49m\u001b[43m__pattern_layer\u001b[49m\u001b[43m.\u001b[49m\u001b[43mforward\u001b[49m\u001b[43m(\u001b[49m\u001b[43mX\u001b[49m\u001b[43m)\u001b[49m\n\u001b[32m     31\u001b[39m     \u001b[38;5;28;01mif\u001b[39;00m \u001b[38;5;28mself\u001b[39m.__regularization_type:\n\u001b[32m     32\u001b[39m         k, y, weights = \u001b[38;5;28mself\u001b[39m.__regularization_layer.forward(k, y, d)\n",
      "\u001b[36mFile \u001b[39m\u001b[32m~/Documents/Projects/regularization-pnn-grnn/base/Layers/PatternLayer.py:36\u001b[39m, in \u001b[36mPatternLayer.forward\u001b[39m\u001b[34m(self, input)\u001b[39m\n\u001b[32m     34\u001b[39m W_class = W[y == class_label]\n\u001b[32m     35\u001b[39m y_class = y[y == class_label]\n\u001b[32m---> \u001b[39m\u001b[32m36\u001b[39m k_values, distances = \u001b[38;5;28;43mself\u001b[39;49m\u001b[43m.\u001b[49m\u001b[43m__kernel\u001b[49m\u001b[43m(\u001b[49m\u001b[43mW_class\u001b[49m\u001b[43m,\u001b[49m\u001b[43m \u001b[49m\u001b[38;5;28;43minput\u001b[39;49m\u001b[43m)\u001b[49m\n\u001b[32m     37\u001b[39m distances_list.append(distances)\n\u001b[32m     38\u001b[39m kernel_values_list.append(k_values)\n",
      "\u001b[36mFile \u001b[39m\u001b[32m~/Documents/Projects/regularization-pnn-grnn/Kernels/GaussianKernel.py:17\u001b[39m, in \u001b[36mGaussianKernel.__call__\u001b[39m\u001b[34m(self, w, x)\u001b[39m\n\u001b[32m     13\u001b[39m \u001b[38;5;250m\u001b[39m\u001b[33;03m\"\"\"\u001b[39;00m\n\u001b[32m     14\u001b[39m \u001b[33;03mComputes the Gaussian kernel value(s) between w and x.\u001b[39;00m\n\u001b[32m     15\u001b[39m \u001b[33;03m\"\"\"\u001b[39;00m\n\u001b[32m     16\u001b[39m dists = distance_l2(w, x)\n\u001b[32m---> \u001b[39m\u001b[32m17\u001b[39m \u001b[38;5;28;01mreturn\u001b[39;00m \u001b[43mnp\u001b[49m\u001b[43m.\u001b[49m\u001b[43mexp\u001b[49m\u001b[43m(\u001b[49m\u001b[43m-\u001b[49m\u001b[43m \u001b[49m\u001b[43m(\u001b[49m\u001b[43mdists\u001b[49m\u001b[43m*\u001b[49m\u001b[43m*\u001b[49m\u001b[32;43m2\u001b[39;49m\u001b[43m \u001b[49m\u001b[43m/\u001b[49m\u001b[43m \u001b[49m\u001b[43m(\u001b[49m\u001b[32;43m2\u001b[39;49m\u001b[43m \u001b[49m\u001b[43m*\u001b[49m\u001b[43m \u001b[49m\u001b[38;5;28;43mself\u001b[39;49m\u001b[43m.\u001b[49m\u001b[43m_sigma\u001b[49m\u001b[43m*\u001b[49m\u001b[43m*\u001b[49m\u001b[32;43m2\u001b[39;49m\u001b[43m)\u001b[49m\u001b[43m)\u001b[49m\u001b[43m)\u001b[49m, dists\n",
      "\u001b[31mKeyboardInterrupt\u001b[39m: "
     ]
    }
   ],
   "source": [
    "results = grid_search_cv(X, y, GRNN)"
   ]
  },
  {
   "cell_type": "code",
   "execution_count": null,
   "id": "d3a5c9bd-64ea-436d-ad98-c7d0ffc30be6",
   "metadata": {},
   "outputs": [],
   "source": [
    "results"
   ]
  },
  {
   "cell_type": "code",
   "execution_count": null,
   "id": "8ab7af67-dd76-4ac3-899c-014ecab37811",
   "metadata": {},
   "outputs": [],
   "source": [
    "results_df = pd.DataFrame(results)\n",
    "results_df['Impovement %'] = np.round((results_df['MSE'].iloc[0] / results_df['MSE']) * 100, 2) - 100\n",
    "results_df"
   ]
  },
  {
   "cell_type": "markdown",
   "id": "c17d868d-4cfc-4555-88e2-811d9ef3c19b",
   "metadata": {},
   "source": [
    "### PNN - Adult income classification"
   ]
  },
  {
   "cell_type": "code",
   "execution_count": 15,
   "id": "fcc1e44d-9e04-4ff5-99ce-f9b2579502ac",
   "metadata": {},
   "outputs": [],
   "source": [
    "train = pd.read_csv('./data/adult_income_train.csv').astype(np.float64).sample(600, random_state=30)\n",
    "test = pd.read_csv('./data/adult_income_test.csv').astype(np.float64).sample(150, random_state=30)\n",
    "\n",
    "X_train, X_test = train.drop(columns=['class']).to_numpy(), test.drop(columns=['class']).to_numpy()\n",
    "y_train, y_test = train['class'].to_numpy(), test['class'].to_numpy()\n",
    "\n",
    "scaler = StandardScaler()\n",
    "X_train = scaler.fit_transform(X_train)\n",
    "X_test = scaler.transform(X_test)"
   ]
  },
  {
   "cell_type": "code",
   "execution_count": 16,
   "id": "5cb0917e-153e-40fe-b7e8-a5670a7e323b",
   "metadata": {},
   "outputs": [],
   "source": [
    "model_configs = [\n",
    "    {\"name\": \"No Regularization\", \"regularization\": None},\n",
    "    {\"name\": \"L1 Regularization\", \"regularization\": 'l1'},\n",
    "    {\"name\": \"L2 Regularization\", \"regularization\": 'l2'},\n",
    "    {\"name\": \"L1 Dropout Regularization\", \"regularization\": ['dropout', 'l1']},\n",
    "    {\"name\": \"L2 Dropout Regularization\", \"regularization\": ['dropout', 'l2']},\n",
    "]\n",
    "\n",
    "results = []\n",
    "\n",
    "for config in model_configs:\n",
    "\n",
    "    if config[\"regularization\"] is not None and isinstance(config[\"regularization\"], list) and 'dropout' in config[\"regularization\"]:\n",
    "        tau_range = list(range(4, 16))\n",
    "    else:\n",
    "        tau_range = [0.1, 0.2, 0.5, 1.0, 2.0, 2.5, 3.0, 3.5, 4.0, 4.5, 5.0, 5.5, 6.0]\n",
    "    \n",
    "    sigma_range = [0.1, 0.25, 0.5, 1.0, 2.0, 3.0, 4.0]\n",
    "    param_grid = {\"sigma\": sigma_range, \"tau\": tau_range}\n",
    "    \n",
    "    best_accuracy = 0\n",
    "    best_params = {}\n",
    "    \n",
    "    for params in ParameterGrid(param_grid):\n",
    "        sigma = params[\"sigma\"]\n",
    "        tau = params[\"tau\"]\n",
    "    \n",
    "        model = PNN(kernel=\"gaussian\", sigma=sigma,\n",
    "                    regularization=config[\"regularization\"],\n",
    "                    tau=tau if config[\"regularization\"] is not None else None,\n",
    "                    n_classes=2, losses=[1]*2)\n",
    "        model.fit(X_train, y_train)\n",
    "\n",
    "        try:\n",
    "            preds = [model.predict([x_test]) for x_test in X_test]\n",
    "            accuracy = accuracy_score(y_test, preds)\n",
    "            if accuracy > best_accuracy:\n",
    "                best_accuracy = accuracy\n",
    "                best_params = {\"sigma\": sigma, \"tau\": tau}\n",
    "        except ZeroDivisionError:\n",
    "            continue\n",
    "\n",
    "\n",
    "    results.append({\n",
    "        \"Model\": config[\"name\"],\n",
    "        \"Best Sigma\": best_params[\"sigma\"],\n",
    "        \"Best Tau\": best_params[\"tau\"],\n",
    "        \"Accuracy\": best_accuracy\n",
    "    })"
   ]
  },
  {
   "cell_type": "code",
   "execution_count": 17,
   "id": "5d2d2639-c202-4588-8c9f-c6311c7d476b",
   "metadata": {},
   "outputs": [
    {
     "data": {
      "text/html": [
       "<div>\n",
       "<style scoped>\n",
       "    .dataframe tbody tr th:only-of-type {\n",
       "        vertical-align: middle;\n",
       "    }\n",
       "\n",
       "    .dataframe tbody tr th {\n",
       "        vertical-align: top;\n",
       "    }\n",
       "\n",
       "    .dataframe thead th {\n",
       "        text-align: right;\n",
       "    }\n",
       "</style>\n",
       "<table border=\"1\" class=\"dataframe\">\n",
       "  <thead>\n",
       "    <tr style=\"text-align: right;\">\n",
       "      <th></th>\n",
       "      <th>Model</th>\n",
       "      <th>Best Sigma</th>\n",
       "      <th>Best Tau</th>\n",
       "      <th>Accuracy</th>\n",
       "      <th>Impovement %</th>\n",
       "    </tr>\n",
       "  </thead>\n",
       "  <tbody>\n",
       "    <tr>\n",
       "      <th>0</th>\n",
       "      <td>No Regularization</td>\n",
       "      <td>0.25</td>\n",
       "      <td>0.1</td>\n",
       "      <td>0.813333</td>\n",
       "      <td>0.00</td>\n",
       "    </tr>\n",
       "    <tr>\n",
       "      <th>1</th>\n",
       "      <td>L1 Regularization</td>\n",
       "      <td>2.00</td>\n",
       "      <td>0.2</td>\n",
       "      <td>0.826667</td>\n",
       "      <td>1.64</td>\n",
       "    </tr>\n",
       "    <tr>\n",
       "      <th>2</th>\n",
       "      <td>L2 Regularization</td>\n",
       "      <td>0.50</td>\n",
       "      <td>1.0</td>\n",
       "      <td>0.820000</td>\n",
       "      <td>0.82</td>\n",
       "    </tr>\n",
       "    <tr>\n",
       "      <th>3</th>\n",
       "      <td>L1 Dropout Regularization</td>\n",
       "      <td>0.50</td>\n",
       "      <td>11.0</td>\n",
       "      <td>0.833333</td>\n",
       "      <td>2.46</td>\n",
       "    </tr>\n",
       "    <tr>\n",
       "      <th>4</th>\n",
       "      <td>L2 Dropout Regularization</td>\n",
       "      <td>0.50</td>\n",
       "      <td>15.0</td>\n",
       "      <td>0.833333</td>\n",
       "      <td>2.46</td>\n",
       "    </tr>\n",
       "  </tbody>\n",
       "</table>\n",
       "</div>"
      ],
      "text/plain": [
       "                       Model  Best Sigma  Best Tau  Accuracy  Impovement %\n",
       "0          No Regularization        0.25       0.1  0.813333          0.00\n",
       "1          L1 Regularization        2.00       0.2  0.826667          1.64\n",
       "2          L2 Regularization        0.50       1.0  0.820000          0.82\n",
       "3  L1 Dropout Regularization        0.50      11.0  0.833333          2.46\n",
       "4  L2 Dropout Regularization        0.50      15.0  0.833333          2.46"
      ]
     },
     "execution_count": 17,
     "metadata": {},
     "output_type": "execute_result"
    }
   ],
   "source": [
    "results_df = pd.DataFrame(results)\n",
    "results_df['Impovement %'] = np.round((results_df['Accuracy'] / results_df['Accuracy'].iloc[0]) * 100, 2) - 100\n",
    "results_df"
   ]
  }
 ],
 "metadata": {
  "kernelspec": {
   "display_name": "GRNN PNN",
   "language": "python",
   "name": "grnn_pnn"
  },
  "language_info": {
   "codemirror_mode": {
    "name": "ipython",
    "version": 3
   },
   "file_extension": ".py",
   "mimetype": "text/x-python",
   "name": "python",
   "nbconvert_exporter": "python",
   "pygments_lexer": "ipython3",
   "version": "3.13.3"
  }
 },
 "nbformat": 4,
 "nbformat_minor": 5
}
