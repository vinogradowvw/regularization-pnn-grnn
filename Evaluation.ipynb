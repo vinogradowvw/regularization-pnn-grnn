{
 "cells": [
  {
   "cell_type": "code",
   "execution_count": 31,
   "id": "6544a4bc-6c6b-4880-b4c5-13ab38991585",
   "metadata": {},
   "outputs": [],
   "source": [
    "import numpy as np\n",
    "import torch\n",
    "import pandas as pd\n",
    "from PNN import TrainablePNN\n",
    "from GRNN import TrainableGRNN\n",
    "from PNN import PNN\n",
    "from GRNN import GRNN\n",
    "from sklearn.preprocessing import StandardScaler\n",
    "from sklearn.datasets import load_breast_cancer, load_diabetes\n",
    "import numpy as np\n",
    "from sklearn.model_selection import KFold\n",
    "from sklearn.metrics import mean_squared_error\n",
    "from sklearn.metrics import accuracy_score\n",
    "from ucimlrepo import fetch_ucirepo\n",
    "from sklearn.utils import shuffle"
   ]
  },
  {
   "cell_type": "markdown",
   "id": "e43cc0f1-6a75-4280-8cbc-43d569a07820",
   "metadata": {},
   "source": [
    "# Base functions"
   ]
  },
  {
   "cell_type": "code",
   "execution_count": 2,
   "id": "d5d0c365-bf48-4083-972e-92e97f5b2cf4",
   "metadata": {},
   "outputs": [],
   "source": [
    "def evaluvate_on_kfold(X, y, model):\n",
    "    \n",
    "    if 'GRNN' in model_class.__name__:\n",
    "        score_func = mean_squared_error\n",
    "    else:\n",
    "        score_func = accuracy_score\n",
    "        \n",
    "    kf = KFold(n_splits=3)\n",
    "\n",
    "    scores = []\n",
    "    \n",
    "    for i, (train_index, test_index) in enumerate(kf.split(X)):\n",
    "        X_train, y_train = X[train_index], y[train_index]\n",
    "        X_test, y_test = X[test_index], y[test_index]\n",
    "        \n",
    "        model.fit(X_train, y_train)\n",
    "        preds = [model.predict([x_test]) for x_test in X_test]\n",
    "        \n",
    "        scores.append(score_func(y_true=y_test, y_pred=preds))\n",
    "\n",
    "    return np.mean(scores)"
   ]
  },
  {
   "cell_type": "code",
   "execution_count": 3,
   "id": "34c69650-cfc2-4899-b4e9-442aad182967",
   "metadata": {},
   "outputs": [],
   "source": [
    "def grid_search_cv(X, y, model_class, sigma_range, tau_range, n_classes=2, losses=None):\n",
    "\n",
    "    if losses is None:\n",
    "        losses = [1] * n_classes\n",
    "\n",
    "    if 'GRNN' in model_class.__name__:\n",
    "        score_func = mean_squared_error\n",
    "    else:\n",
    "        score_func = accuracy_score\n",
    "                \n",
    "    best_sigma = None\n",
    "    best_score = float('inf') if score_func == mean_squared_error else 0\n",
    "\n",
    "    for sigma in sigma_range:\n",
    "        try:\n",
    "            if 'GRNN' in model_class.__name__:\n",
    "                score_func = mean_squared_error\n",
    "                model = model_class(kernel=\"gaussian\", sigma=sigma)\n",
    "            else:\n",
    "                score_func = accuracy_score\n",
    "                model = model_class(kernel=\"gaussian\", sigma=sigma,\n",
    "                                    n_classes=n_classes, losses=losses)\n",
    "            score = evaluvate_on_kfold(X, y, model)\n",
    "            if ((score_func == accuracy_score and score > best_score) or\n",
    "                (score_func == mean_squared_error and score < best_score)):\n",
    "                best_score = score\n",
    "                best_sigma = sigma\n",
    "        except ZeroDivisionError:\n",
    "            continue\n",
    "\n",
    "    results = []\n",
    "    results.append({\n",
    "        \"Model\": f\"{model_class.__name__}\",\n",
    "        \"Best Sigma\": best_sigma,\n",
    "        \"Best Tau\": None,\n",
    "        \"Score\": best_score\n",
    "    })\n",
    "\n",
    "    print(f\"Best sigma found: {best_sigma} (Score: {best_score:.4f})\")\n",
    "\n",
    "    regularizations = ['l1', 'l2']\n",
    "    \n",
    "    for reg in regularizations:\n",
    "        best_tau = None\n",
    "        best_score = float('inf') if score_func == mean_squared_error else 0\n",
    "\n",
    "        for tau in tau_range:\n",
    "            try:\n",
    "                if 'GRNN' in model_class.__name__:\n",
    "                    trainable_model_class = TrainableGRNN\n",
    "                    model = trainable_model_class(sigma=best_sigma,\n",
    "                                    regularization=reg, tau=tau)\n",
    "                else:\n",
    "                    trainable_model_class = TrainablePNN\n",
    "                    model = trainable_model_class(sigma=best_sigma,\n",
    "                                    regularization=reg, tau=tau,\n",
    "                                    n_classes=n_classes, losses=losses)\n",
    "                \n",
    "                score = evaluvate_on_kfold(X, y, model)\n",
    "                if ((score_func == accuracy_score and score > best_score) or\n",
    "                    (score_func == mean_squared_error and score < best_score)):\n",
    "                    best_score = score\n",
    "                    best_tau = tau\n",
    "            except ZeroDivisionError as e:\n",
    "                continue\n",
    "\n",
    "        results.append({\n",
    "            \"Model\": f\"{model_class.__name__} with {reg.upper()}\",\n",
    "            \"Best Sigma\": best_sigma,\n",
    "            \"Best Tau\": best_tau,\n",
    "            \"Score\": best_score\n",
    "        })\n",
    "\n",
    "    return results"
   ]
  },
  {
   "cell_type": "code",
   "execution_count": 4,
   "id": "14f136e6-061d-41fd-bd7f-de1171f8ca87",
   "metadata": {},
   "outputs": [],
   "source": [
    "all_results_data = []"
   ]
  },
  {
   "cell_type": "markdown",
   "id": "acaa0e8c-0b02-4720-be8f-7433a06c60bf",
   "metadata": {},
   "source": [
    "# Breast cancer"
   ]
  },
  {
   "cell_type": "code",
   "execution_count": 5,
   "id": "457b3104-f356-4d74-a574-b60a742ee7ae",
   "metadata": {},
   "outputs": [
    {
     "name": "stdout",
     "output_type": "stream",
     "text": [
      "569\n"
     ]
    }
   ],
   "source": [
    "data = load_breast_cancer()\n",
    "X = data['data']\n",
    "y_train = data['target']\n",
    "\n",
    "scaler = StandardScaler()\n",
    "X_train = scaler.fit_transform(X)\n",
    "print(len(X_train))"
   ]
  },
  {
   "cell_type": "code",
   "execution_count": 6,
   "id": "1143c006-4d71-4f60-8b7d-c5c74e8177b8",
   "metadata": {},
   "outputs": [
    {
     "name": "stdout",
     "output_type": "stream",
     "text": [
      "Best sigma found: 0.8 (Score: 0.9561)\n"
     ]
    },
    {
     "name": "stderr",
     "output_type": "stream",
     "text": [
      "/Users/g.vinogradov/Documents/Projects/regularization-pnn-grnn/base/Layers/TrainablePatternLayerPNN.py:98: UserWarning: Creating a tensor from a list of numpy.ndarrays is extremely slow. Please consider converting the list to a single numpy.ndarray with numpy.array() before converting to a tensor. (Triggered internally at /Users/runner/work/_temp/anaconda/conda-bld/pytorch_1729646995093/work/torch/csrc/utils/tensor_new.cpp:281.)\n",
      "  input = torch.tensor(input, dtype=torch.float32)\n"
     ]
    }
   ],
   "source": [
    "model_class = PNN\n",
    "sigma_range = np.round(np.arange(0.1, 5.1, 0.1), 2)\n",
    "tau_range = np.round(np.arange(0.1, 5.1, 0.1), 2)\n",
    "\n",
    "evals = grid_search_cv(X_train, y_train, model_class, sigma_range, tau_range, n_classes=2, losses=None)"
   ]
  },
  {
   "cell_type": "code",
   "execution_count": 7,
   "id": "77114ba7-68af-49c7-a04d-2293b0a8a1b4",
   "metadata": {},
   "outputs": [
    {
     "data": {
      "text/html": [
       "<div>\n",
       "<style scoped>\n",
       "    .dataframe tbody tr th:only-of-type {\n",
       "        vertical-align: middle;\n",
       "    }\n",
       "\n",
       "    .dataframe tbody tr th {\n",
       "        vertical-align: top;\n",
       "    }\n",
       "\n",
       "    .dataframe thead th {\n",
       "        text-align: right;\n",
       "    }\n",
       "</style>\n",
       "<table border=\"1\" class=\"dataframe\">\n",
       "  <thead>\n",
       "    <tr style=\"text-align: right;\">\n",
       "      <th></th>\n",
       "      <th>Model</th>\n",
       "      <th>Best Sigma</th>\n",
       "      <th>Best Tau</th>\n",
       "      <th>Score</th>\n",
       "      <th>Impovement %</th>\n",
       "      <th>Dataset</th>\n",
       "      <th>Instances</th>\n",
       "    </tr>\n",
       "  </thead>\n",
       "  <tbody>\n",
       "    <tr>\n",
       "      <th>0</th>\n",
       "      <td>PNN</td>\n",
       "      <td>0.8</td>\n",
       "      <td>NaN</td>\n",
       "      <td>0.956094</td>\n",
       "      <td>0.00</td>\n",
       "      <td>Breast Cancer</td>\n",
       "      <td>569</td>\n",
       "    </tr>\n",
       "    <tr>\n",
       "      <th>1</th>\n",
       "      <td>PNN with L1</td>\n",
       "      <td>0.8</td>\n",
       "      <td>4.9</td>\n",
       "      <td>0.959612</td>\n",
       "      <td>0.37</td>\n",
       "      <td>Breast Cancer</td>\n",
       "      <td>569</td>\n",
       "    </tr>\n",
       "    <tr>\n",
       "      <th>2</th>\n",
       "      <td>PNN with L2</td>\n",
       "      <td>0.8</td>\n",
       "      <td>2.2</td>\n",
       "      <td>0.959612</td>\n",
       "      <td>0.37</td>\n",
       "      <td>Breast Cancer</td>\n",
       "      <td>569</td>\n",
       "    </tr>\n",
       "  </tbody>\n",
       "</table>\n",
       "</div>"
      ],
      "text/plain": [
       "         Model  Best Sigma  Best Tau     Score  Impovement %        Dataset  \\\n",
       "0          PNN         0.8       NaN  0.956094          0.00  Breast Cancer   \n",
       "1  PNN with L1         0.8       4.9  0.959612          0.37  Breast Cancer   \n",
       "2  PNN with L2         0.8       2.2  0.959612          0.37  Breast Cancer   \n",
       "\n",
       "   Instances  \n",
       "0        569  \n",
       "1        569  \n",
       "2        569  "
      ]
     },
     "execution_count": 7,
     "metadata": {},
     "output_type": "execute_result"
    }
   ],
   "source": [
    "results_df = pd.DataFrame(evals)\n",
    "results_df['Impovement %'] = np.round((results_df['Score'] / results_df['Score'].iloc[0]) * 100, 2) - 100\n",
    "results_df['Dataset'] = 'Breast Cancer'\n",
    "results_df['Instances'] = len(X_train)\n",
    "results_df"
   ]
  },
  {
   "cell_type": "code",
   "execution_count": 8,
   "id": "ec2099ec-c563-4ac2-868d-71e8be06902f",
   "metadata": {},
   "outputs": [],
   "source": [
    "all_results_data.append(results_df)"
   ]
  },
  {
   "cell_type": "markdown",
   "id": "e7d25823-e486-4d22-b8e0-3282f46f10ab",
   "metadata": {},
   "source": [
    "# Suspicious firms"
   ]
  },
  {
   "cell_type": "code",
   "execution_count": 9,
   "id": "9bf25726-0982-4a8b-bf7b-4b7c76105beb",
   "metadata": {},
   "outputs": [
    {
     "name": "stdout",
     "output_type": "stream",
     "text": [
      "775\n"
     ]
    }
   ],
   "source": [
    "df = pd.read_csv('./data/audit_risk.csv')\n",
    "\n",
    "df = df.dropna()\n",
    "\n",
    "df = df.drop(columns=['LOCATION_ID'])\n",
    "\n",
    "X = df.drop(columns=['Risk']).values\n",
    "y_train = df['Risk'].values\n",
    "\n",
    "scaler = StandardScaler()\n",
    "X_train = scaler.fit_transform(X)\n",
    "print(len(X_train))"
   ]
  },
  {
   "cell_type": "code",
   "execution_count": 10,
   "id": "bcb20ad5-6de0-470e-9f63-ecf826bbfb80",
   "metadata": {},
   "outputs": [
    {
     "name": "stdout",
     "output_type": "stream",
     "text": [
      "Best sigma found: 0.5 (Score: 0.9548)\n"
     ]
    }
   ],
   "source": [
    "model_class = PNN\n",
    "sigma_range = np.round(np.arange(0.1, 5.1, 0.1), 2)\n",
    "tau_range = np.round(np.arange(0.1, 5.1, 0.1), 2)\n",
    "\n",
    "evals = grid_search_cv(X_train, y_train, model_class, sigma_range, tau_range, n_classes=2, losses=None)"
   ]
  },
  {
   "cell_type": "code",
   "execution_count": 11,
   "id": "55a78ea6-6063-4b88-b6c2-556460ed97fa",
   "metadata": {},
   "outputs": [
    {
     "data": {
      "text/html": [
       "<div>\n",
       "<style scoped>\n",
       "    .dataframe tbody tr th:only-of-type {\n",
       "        vertical-align: middle;\n",
       "    }\n",
       "\n",
       "    .dataframe tbody tr th {\n",
       "        vertical-align: top;\n",
       "    }\n",
       "\n",
       "    .dataframe thead th {\n",
       "        text-align: right;\n",
       "    }\n",
       "</style>\n",
       "<table border=\"1\" class=\"dataframe\">\n",
       "  <thead>\n",
       "    <tr style=\"text-align: right;\">\n",
       "      <th></th>\n",
       "      <th>Model</th>\n",
       "      <th>Best Sigma</th>\n",
       "      <th>Best Tau</th>\n",
       "      <th>Score</th>\n",
       "      <th>Impovement %</th>\n",
       "      <th>Dataset</th>\n",
       "      <th>Instances</th>\n",
       "    </tr>\n",
       "  </thead>\n",
       "  <tbody>\n",
       "    <tr>\n",
       "      <th>0</th>\n",
       "      <td>PNN</td>\n",
       "      <td>0.5</td>\n",
       "      <td>NaN</td>\n",
       "      <td>0.954840</td>\n",
       "      <td>0.00</td>\n",
       "      <td>Suspicious firms</td>\n",
       "      <td>775</td>\n",
       "    </tr>\n",
       "    <tr>\n",
       "      <th>1</th>\n",
       "      <td>PNN with L1</td>\n",
       "      <td>0.5</td>\n",
       "      <td>1.6</td>\n",
       "      <td>0.936797</td>\n",
       "      <td>-1.89</td>\n",
       "      <td>Suspicious firms</td>\n",
       "      <td>775</td>\n",
       "    </tr>\n",
       "    <tr>\n",
       "      <th>2</th>\n",
       "      <td>PNN with L2</td>\n",
       "      <td>0.5</td>\n",
       "      <td>3.2</td>\n",
       "      <td>0.936797</td>\n",
       "      <td>-1.89</td>\n",
       "      <td>Suspicious firms</td>\n",
       "      <td>775</td>\n",
       "    </tr>\n",
       "  </tbody>\n",
       "</table>\n",
       "</div>"
      ],
      "text/plain": [
       "         Model  Best Sigma  Best Tau     Score  Impovement %  \\\n",
       "0          PNN         0.5       NaN  0.954840          0.00   \n",
       "1  PNN with L1         0.5       1.6  0.936797         -1.89   \n",
       "2  PNN with L2         0.5       3.2  0.936797         -1.89   \n",
       "\n",
       "            Dataset  Instances  \n",
       "0  Suspicious firms        775  \n",
       "1  Suspicious firms        775  \n",
       "2  Suspicious firms        775  "
      ]
     },
     "execution_count": 11,
     "metadata": {},
     "output_type": "execute_result"
    }
   ],
   "source": [
    "results_df = pd.DataFrame(evals)\n",
    "results_df['Impovement %'] = np.round((results_df['Score'] / results_df['Score'].iloc[0]) * 100, 2) - 100\n",
    "results_df['Dataset'] = 'Suspicious firms'\n",
    "results_df['Instances'] = len(X_train)\n",
    "results_df"
   ]
  },
  {
   "cell_type": "code",
   "execution_count": 12,
   "id": "9025b33f-0f07-434c-a097-e2d497f6e3e0",
   "metadata": {},
   "outputs": [],
   "source": [
    "all_results_data.append(results_df)"
   ]
  },
  {
   "cell_type": "markdown",
   "id": "1a0f7430-5403-484c-9ddf-c6ae68fe9c14",
   "metadata": {},
   "source": [
    "# Diabetes"
   ]
  },
  {
   "cell_type": "code",
   "execution_count": 13,
   "id": "b3500ec0-66a1-4709-bbeb-1ea8ae6134b2",
   "metadata": {},
   "outputs": [
    {
     "name": "stdout",
     "output_type": "stream",
     "text": [
      "442\n"
     ]
    }
   ],
   "source": [
    "data = load_diabetes()\n",
    "\n",
    "X = data['data']\n",
    "y_train = data['target']\n",
    "scaler = StandardScaler()\n",
    "X_train = scaler.fit_transform(X)\n",
    "print(len(X_train))"
   ]
  },
  {
   "cell_type": "code",
   "execution_count": 14,
   "id": "a379a8f3-5f9b-462a-a2ce-bbdc416f4828",
   "metadata": {},
   "outputs": [
    {
     "name": "stdout",
     "output_type": "stream",
     "text": [
      "Best sigma found: 1.0 (Score: 3219.3482)\n"
     ]
    }
   ],
   "source": [
    "model_class = GRNN\n",
    "sigma_range = np.round(np.arange(0.1, 5.1, 0.1), 2)\n",
    "tau_range = np.round(np.arange(0.1, 5.1, 0.1), 2)\n",
    "\n",
    "evals = grid_search_cv(X_train, y_train, model_class, sigma_range, tau_range, n_classes=2, losses=None)"
   ]
  },
  {
   "cell_type": "code",
   "execution_count": 15,
   "id": "0629783d-137d-404c-bc07-bad7255364c9",
   "metadata": {},
   "outputs": [
    {
     "data": {
      "text/html": [
       "<div>\n",
       "<style scoped>\n",
       "    .dataframe tbody tr th:only-of-type {\n",
       "        vertical-align: middle;\n",
       "    }\n",
       "\n",
       "    .dataframe tbody tr th {\n",
       "        vertical-align: top;\n",
       "    }\n",
       "\n",
       "    .dataframe thead th {\n",
       "        text-align: right;\n",
       "    }\n",
       "</style>\n",
       "<table border=\"1\" class=\"dataframe\">\n",
       "  <thead>\n",
       "    <tr style=\"text-align: right;\">\n",
       "      <th></th>\n",
       "      <th>Model</th>\n",
       "      <th>Best Sigma</th>\n",
       "      <th>Best Tau</th>\n",
       "      <th>Score</th>\n",
       "      <th>Impovement %</th>\n",
       "      <th>Dataset</th>\n",
       "      <th>Instances</th>\n",
       "    </tr>\n",
       "  </thead>\n",
       "  <tbody>\n",
       "    <tr>\n",
       "      <th>0</th>\n",
       "      <td>GRNN</td>\n",
       "      <td>1.0</td>\n",
       "      <td>NaN</td>\n",
       "      <td>3219.348204</td>\n",
       "      <td>0.00</td>\n",
       "      <td>Diabetes</td>\n",
       "      <td>442</td>\n",
       "    </tr>\n",
       "    <tr>\n",
       "      <th>1</th>\n",
       "      <td>GRNN with L1</td>\n",
       "      <td>1.0</td>\n",
       "      <td>4.0</td>\n",
       "      <td>3091.181332</td>\n",
       "      <td>4.15</td>\n",
       "      <td>Diabetes</td>\n",
       "      <td>442</td>\n",
       "    </tr>\n",
       "    <tr>\n",
       "      <th>2</th>\n",
       "      <td>GRNN with L2</td>\n",
       "      <td>1.0</td>\n",
       "      <td>3.0</td>\n",
       "      <td>3101.525256</td>\n",
       "      <td>3.80</td>\n",
       "      <td>Diabetes</td>\n",
       "      <td>442</td>\n",
       "    </tr>\n",
       "  </tbody>\n",
       "</table>\n",
       "</div>"
      ],
      "text/plain": [
       "          Model  Best Sigma  Best Tau        Score  Impovement %   Dataset  \\\n",
       "0          GRNN         1.0       NaN  3219.348204          0.00  Diabetes   \n",
       "1  GRNN with L1         1.0       4.0  3091.181332          4.15  Diabetes   \n",
       "2  GRNN with L2         1.0       3.0  3101.525256          3.80  Diabetes   \n",
       "\n",
       "   Instances  \n",
       "0        442  \n",
       "1        442  \n",
       "2        442  "
      ]
     },
     "execution_count": 15,
     "metadata": {},
     "output_type": "execute_result"
    }
   ],
   "source": [
    "results_df = pd.DataFrame(evals)\n",
    "results_df['Impovement %'] = np.round((results_df['Score'].iloc[0] / results_df['Score']) * 100, 2) - 100\n",
    "results_df['Dataset'] = 'Diabetes'\n",
    "results_df['Instances'] = len(X_train)\n",
    "results_df"
   ]
  },
  {
   "cell_type": "code",
   "execution_count": 16,
   "id": "3547f04f-6991-4130-b722-cf03fc7c8eb2",
   "metadata": {},
   "outputs": [],
   "source": [
    "all_results_data.append(results_df)"
   ]
  },
  {
   "cell_type": "markdown",
   "id": "788de7bc-28b2-4fea-8bc7-17d0d3a09bbc",
   "metadata": {},
   "source": [
    "# Concrete Compressive Strength"
   ]
  },
  {
   "cell_type": "code",
   "execution_count": 17,
   "id": "ffd8ffde-b7ea-4bfa-95d8-a350d8412927",
   "metadata": {},
   "outputs": [
    {
     "name": "stdout",
     "output_type": "stream",
     "text": [
      "1030\n"
     ]
    }
   ],
   "source": [
    "url = \"https://archive.ics.uci.edu/ml/machine-learning-databases/concrete/compressive/Concrete_Data.xls\"\n",
    "df = pd.read_excel(url)\n",
    "\n",
    "X = df.iloc[:, :-1].values\n",
    "y_train = df.iloc[:, -1].values\n",
    "\n",
    "scaler = StandardScaler()\n",
    "X_train = scaler.fit_transform(X)\n",
    "print(len(X_train))"
   ]
  },
  {
   "cell_type": "code",
   "execution_count": 18,
   "id": "a1d32b25-ba9b-41f7-b7af-317764aa89a7",
   "metadata": {},
   "outputs": [
    {
     "name": "stdout",
     "output_type": "stream",
     "text": [
      "Best sigma found: 0.6 (Score: 142.1832)\n"
     ]
    }
   ],
   "source": [
    "model_class = GRNN\n",
    "sigma_range = np.round(np.arange(0.1, 5.1, 0.1), 2)\n",
    "tau_range = np.round(np.arange(0.1, 5.1, 0.1), 2)\n",
    "\n",
    "evals = grid_search_cv(X_train, y_train, model_class, sigma_range, tau_range, n_classes=2, losses=None)"
   ]
  },
  {
   "cell_type": "code",
   "execution_count": 19,
   "id": "203fa13a-36fb-471b-88bc-d65acff814d3",
   "metadata": {},
   "outputs": [
    {
     "data": {
      "text/html": [
       "<div>\n",
       "<style scoped>\n",
       "    .dataframe tbody tr th:only-of-type {\n",
       "        vertical-align: middle;\n",
       "    }\n",
       "\n",
       "    .dataframe tbody tr th {\n",
       "        vertical-align: top;\n",
       "    }\n",
       "\n",
       "    .dataframe thead th {\n",
       "        text-align: right;\n",
       "    }\n",
       "</style>\n",
       "<table border=\"1\" class=\"dataframe\">\n",
       "  <thead>\n",
       "    <tr style=\"text-align: right;\">\n",
       "      <th></th>\n",
       "      <th>Model</th>\n",
       "      <th>Best Sigma</th>\n",
       "      <th>Best Tau</th>\n",
       "      <th>Score</th>\n",
       "      <th>Impovement %</th>\n",
       "      <th>Dataset</th>\n",
       "      <th>Instances</th>\n",
       "    </tr>\n",
       "  </thead>\n",
       "  <tbody>\n",
       "    <tr>\n",
       "      <th>0</th>\n",
       "      <td>GRNN</td>\n",
       "      <td>0.6</td>\n",
       "      <td>NaN</td>\n",
       "      <td>142.183214</td>\n",
       "      <td>0.00</td>\n",
       "      <td>Concrete Compressive Strength</td>\n",
       "      <td>1030</td>\n",
       "    </tr>\n",
       "    <tr>\n",
       "      <th>1</th>\n",
       "      <td>GRNN with L1</td>\n",
       "      <td>0.6</td>\n",
       "      <td>1.3</td>\n",
       "      <td>135.971447</td>\n",
       "      <td>4.57</td>\n",
       "      <td>Concrete Compressive Strength</td>\n",
       "      <td>1030</td>\n",
       "    </tr>\n",
       "    <tr>\n",
       "      <th>2</th>\n",
       "      <td>GRNN with L2</td>\n",
       "      <td>0.6</td>\n",
       "      <td>3.1</td>\n",
       "      <td>136.932485</td>\n",
       "      <td>3.83</td>\n",
       "      <td>Concrete Compressive Strength</td>\n",
       "      <td>1030</td>\n",
       "    </tr>\n",
       "  </tbody>\n",
       "</table>\n",
       "</div>"
      ],
      "text/plain": [
       "          Model  Best Sigma  Best Tau       Score  Impovement %  \\\n",
       "0          GRNN         0.6       NaN  142.183214          0.00   \n",
       "1  GRNN with L1         0.6       1.3  135.971447          4.57   \n",
       "2  GRNN with L2         0.6       3.1  136.932485          3.83   \n",
       "\n",
       "                         Dataset  Instances  \n",
       "0  Concrete Compressive Strength       1030  \n",
       "1  Concrete Compressive Strength       1030  \n",
       "2  Concrete Compressive Strength       1030  "
      ]
     },
     "execution_count": 19,
     "metadata": {},
     "output_type": "execute_result"
    }
   ],
   "source": [
    "results_df = pd.DataFrame(evals)\n",
    "results_df['Impovement %'] = np.round((results_df['Score'].iloc[0] / results_df['Score']) * 100, 2) - 100\n",
    "results_df['Dataset'] = 'Concrete Compressive Strength'\n",
    "results_df['Instances'] = len(X_train)\n",
    "results_df"
   ]
  },
  {
   "cell_type": "code",
   "execution_count": 20,
   "id": "74c3e8e3-7faf-4f99-b31f-41c1046e52f4",
   "metadata": {},
   "outputs": [],
   "source": [
    "all_results_data.append(results_df)"
   ]
  },
  {
   "cell_type": "markdown",
   "id": "23e20ca2-14c4-4ba7-924e-0ae7fbdade51",
   "metadata": {},
   "source": [
    "# Stock portfolio performance"
   ]
  },
  {
   "cell_type": "code",
   "execution_count": 27,
   "id": "335ca2e5-0042-4989-b4f8-39bca8475ae2",
   "metadata": {},
   "outputs": [
    {
     "name": "stdout",
     "output_type": "stream",
     "text": [
      "315\n"
     ]
    }
   ],
   "source": [
    "stock_portfolio_performance = fetch_ucirepo(id=390)\n",
    "  \n",
    "X = stock_portfolio_performance.data.features.iloc[:, :-6]\n",
    "y_train = stock_portfolio_performance.data.targets['Excess Return'].apply(lambda x: float(x[:-1])).to_numpy()\n",
    "\n",
    "scaler = StandardScaler()\n",
    "X_train = scaler.fit_transform(X)\n",
    "print(len(X_train))"
   ]
  },
  {
   "cell_type": "code",
   "execution_count": 22,
   "id": "ddd12bb4-3229-45c1-a4db-7dea7f422a26",
   "metadata": {},
   "outputs": [
    {
     "name": "stdout",
     "output_type": "stream",
     "text": [
      "Best sigma found: 5.0 (Score: 6.7776)\n"
     ]
    }
   ],
   "source": [
    "model_class = GRNN\n",
    "sigma_range = np.round(np.arange(0.1, 5.1, 0.1), 2)\n",
    "tau_range = np.round(np.arange(0.1, 5.1, 0.1), 2)\n",
    "\n",
    "evals = grid_search_cv(X_train, y_train, model_class, sigma_range, tau_range, n_classes=2, losses=None)"
   ]
  },
  {
   "cell_type": "code",
   "execution_count": 23,
   "id": "0bb15a7e-e162-403c-8747-46532b88690e",
   "metadata": {},
   "outputs": [
    {
     "data": {
      "text/html": [
       "<div>\n",
       "<style scoped>\n",
       "    .dataframe tbody tr th:only-of-type {\n",
       "        vertical-align: middle;\n",
       "    }\n",
       "\n",
       "    .dataframe tbody tr th {\n",
       "        vertical-align: top;\n",
       "    }\n",
       "\n",
       "    .dataframe thead th {\n",
       "        text-align: right;\n",
       "    }\n",
       "</style>\n",
       "<table border=\"1\" class=\"dataframe\">\n",
       "  <thead>\n",
       "    <tr style=\"text-align: right;\">\n",
       "      <th></th>\n",
       "      <th>Model</th>\n",
       "      <th>Best Sigma</th>\n",
       "      <th>Best Tau</th>\n",
       "      <th>Score</th>\n",
       "      <th>Impovement %</th>\n",
       "      <th>Dataset</th>\n",
       "      <th>Instances</th>\n",
       "    </tr>\n",
       "  </thead>\n",
       "  <tbody>\n",
       "    <tr>\n",
       "      <th>0</th>\n",
       "      <td>GRNN</td>\n",
       "      <td>5.0</td>\n",
       "      <td>NaN</td>\n",
       "      <td>6.777578</td>\n",
       "      <td>0.00</td>\n",
       "      <td>Stock portfolio performance</td>\n",
       "      <td>315</td>\n",
       "    </tr>\n",
       "    <tr>\n",
       "      <th>1</th>\n",
       "      <td>GRNN with L1</td>\n",
       "      <td>5.0</td>\n",
       "      <td>4.8</td>\n",
       "      <td>6.232009</td>\n",
       "      <td>8.75</td>\n",
       "      <td>Stock portfolio performance</td>\n",
       "      <td>315</td>\n",
       "    </tr>\n",
       "    <tr>\n",
       "      <th>2</th>\n",
       "      <td>GRNN with L2</td>\n",
       "      <td>5.0</td>\n",
       "      <td>3.2</td>\n",
       "      <td>6.243142</td>\n",
       "      <td>8.56</td>\n",
       "      <td>Stock portfolio performance</td>\n",
       "      <td>315</td>\n",
       "    </tr>\n",
       "  </tbody>\n",
       "</table>\n",
       "</div>"
      ],
      "text/plain": [
       "          Model  Best Sigma  Best Tau     Score  Impovement %  \\\n",
       "0          GRNN         5.0       NaN  6.777578          0.00   \n",
       "1  GRNN with L1         5.0       4.8  6.232009          8.75   \n",
       "2  GRNN with L2         5.0       3.2  6.243142          8.56   \n",
       "\n",
       "                       Dataset  Instances  \n",
       "0  Stock portfolio performance        315  \n",
       "1  Stock portfolio performance        315  \n",
       "2  Stock portfolio performance        315  "
      ]
     },
     "execution_count": 23,
     "metadata": {},
     "output_type": "execute_result"
    }
   ],
   "source": [
    "results_df = pd.DataFrame(evals)\n",
    "results_df['Impovement %'] = np.round((results_df['Score'].iloc[0] / results_df['Score']) * 100, 2) - 100\n",
    "results_df['Dataset'] = 'Stock portfolio performance'\n",
    "results_df['Instances'] = len(X_train)\n",
    "results_df"
   ]
  },
  {
   "cell_type": "code",
   "execution_count": 24,
   "id": "41f98486-49e9-4b3d-9cb3-d85fae946e30",
   "metadata": {},
   "outputs": [],
   "source": [
    "all_results_data.append(results_df)"
   ]
  },
  {
   "cell_type": "markdown",
   "id": "002176c9-2bd9-42fa-b562-f821560cc5d4",
   "metadata": {},
   "source": [
    "# Parkinsons"
   ]
  },
  {
   "cell_type": "code",
   "execution_count": 62,
   "id": "848c6702-a548-4352-a8dc-3e0c95cae7e8",
   "metadata": {},
   "outputs": [
    {
     "name": "stdout",
     "output_type": "stream",
     "text": [
      "195\n"
     ]
    }
   ],
   "source": [
    "parkinsons = fetch_ucirepo(id=174) \n",
    "  \n",
    "X = parkinsons.data.features \n",
    "y_train = parkinsons.data.targets['status'].to_numpy()\n",
    "\n",
    "scaler = StandardScaler()\n",
    "X_train = scaler.fit_transform(X)\n",
    "\n",
    "X_train, y_train = shuffle(X_train, y_train, random_state=42)\n",
    "\n",
    "print(len(X_train))"
   ]
  },
  {
   "cell_type": "code",
   "execution_count": 63,
   "id": "3e4043aa-e4c1-4a07-b739-a3161f47a6bf",
   "metadata": {},
   "outputs": [
    {
     "name": "stdout",
     "output_type": "stream",
     "text": [
      "Best sigma found: 0.6 (Score: 0.9538)\n"
     ]
    }
   ],
   "source": [
    "model_class = PNN\n",
    "sigma_range = np.round(np.arange(0.1, 5.1, 0.1), 2)\n",
    "tau_range = np.round(np.arange(0.1, 5.1, 0.1), 2)\n",
    "\n",
    "evals = grid_search_cv(X_train, y_train, model_class, sigma_range, tau_range, n_classes=2, losses=None)"
   ]
  },
  {
   "cell_type": "code",
   "execution_count": 65,
   "id": "c955bf1c-3b22-4c28-b763-78b63699fb60",
   "metadata": {},
   "outputs": [
    {
     "data": {
      "text/html": [
       "<div>\n",
       "<style scoped>\n",
       "    .dataframe tbody tr th:only-of-type {\n",
       "        vertical-align: middle;\n",
       "    }\n",
       "\n",
       "    .dataframe tbody tr th {\n",
       "        vertical-align: top;\n",
       "    }\n",
       "\n",
       "    .dataframe thead th {\n",
       "        text-align: right;\n",
       "    }\n",
       "</style>\n",
       "<table border=\"1\" class=\"dataframe\">\n",
       "  <thead>\n",
       "    <tr style=\"text-align: right;\">\n",
       "      <th></th>\n",
       "      <th>Model</th>\n",
       "      <th>Best Sigma</th>\n",
       "      <th>Best Tau</th>\n",
       "      <th>Score</th>\n",
       "      <th>Impovement %</th>\n",
       "      <th>Dataset</th>\n",
       "      <th>Instances</th>\n",
       "    </tr>\n",
       "  </thead>\n",
       "  <tbody>\n",
       "    <tr>\n",
       "      <th>0</th>\n",
       "      <td>PNN</td>\n",
       "      <td>0.6</td>\n",
       "      <td>NaN</td>\n",
       "      <td>0.953846</td>\n",
       "      <td>0.00</td>\n",
       "      <td>Parkinsons</td>\n",
       "      <td>195</td>\n",
       "    </tr>\n",
       "    <tr>\n",
       "      <th>1</th>\n",
       "      <td>PNN with L1</td>\n",
       "      <td>0.6</td>\n",
       "      <td>1.5</td>\n",
       "      <td>0.948718</td>\n",
       "      <td>-0.54</td>\n",
       "      <td>Parkinsons</td>\n",
       "      <td>195</td>\n",
       "    </tr>\n",
       "    <tr>\n",
       "      <th>2</th>\n",
       "      <td>PNN with L2</td>\n",
       "      <td>0.6</td>\n",
       "      <td>1.9</td>\n",
       "      <td>0.958974</td>\n",
       "      <td>0.54</td>\n",
       "      <td>Parkinsons</td>\n",
       "      <td>195</td>\n",
       "    </tr>\n",
       "  </tbody>\n",
       "</table>\n",
       "</div>"
      ],
      "text/plain": [
       "         Model  Best Sigma  Best Tau     Score  Impovement %     Dataset  \\\n",
       "0          PNN         0.6       NaN  0.953846          0.00  Parkinsons   \n",
       "1  PNN with L1         0.6       1.5  0.948718         -0.54  Parkinsons   \n",
       "2  PNN with L2         0.6       1.9  0.958974          0.54  Parkinsons   \n",
       "\n",
       "   Instances  \n",
       "0        195  \n",
       "1        195  \n",
       "2        195  "
      ]
     },
     "execution_count": 65,
     "metadata": {},
     "output_type": "execute_result"
    }
   ],
   "source": [
    "results_df = pd.DataFrame(evals)\n",
    "results_df['Impovement %'] = np.round((results_df['Score'] / results_df['Score'].iloc[0]) * 100, 2) - 100\n",
    "results_df['Dataset'] = 'Parkinsons'\n",
    "results_df['Instances'] = len(X_train)\n",
    "results_df"
   ]
  },
  {
   "cell_type": "code",
   "execution_count": 85,
   "id": "b03304e7-ea1d-4769-bacb-fea7806b2af4",
   "metadata": {},
   "outputs": [],
   "source": [
    "all_results_data.append(results_df)"
   ]
  },
  {
   "cell_type": "markdown",
   "id": "17c983cf-2705-4b1a-8f27-d64727f13c31",
   "metadata": {},
   "source": [
    "# Data joining"
   ]
  },
  {
   "cell_type": "code",
   "execution_count": 89,
   "id": "f5b4dd6f-129b-4502-b970-a88bab088c18",
   "metadata": {},
   "outputs": [],
   "source": [
    "combined_df = pd.concat(all_results_data, ignore_index=True)"
   ]
  },
  {
   "cell_type": "code",
   "execution_count": 90,
   "id": "fb39688b-7049-4d48-aa25-a8af12a76ee0",
   "metadata": {},
   "outputs": [
    {
     "data": {
      "text/html": [
       "<div>\n",
       "<style scoped>\n",
       "    .dataframe tbody tr th:only-of-type {\n",
       "        vertical-align: middle;\n",
       "    }\n",
       "\n",
       "    .dataframe tbody tr th {\n",
       "        vertical-align: top;\n",
       "    }\n",
       "\n",
       "    .dataframe thead th {\n",
       "        text-align: right;\n",
       "    }\n",
       "</style>\n",
       "<table border=\"1\" class=\"dataframe\">\n",
       "  <thead>\n",
       "    <tr style=\"text-align: right;\">\n",
       "      <th></th>\n",
       "      <th>Model</th>\n",
       "      <th>Best Sigma</th>\n",
       "      <th>Best Tau</th>\n",
       "      <th>Score</th>\n",
       "      <th>Impovement %</th>\n",
       "      <th>Dataset</th>\n",
       "      <th>Instances</th>\n",
       "    </tr>\n",
       "  </thead>\n",
       "  <tbody>\n",
       "    <tr>\n",
       "      <th>0</th>\n",
       "      <td>PNN</td>\n",
       "      <td>0.8</td>\n",
       "      <td>NaN</td>\n",
       "      <td>0.956094</td>\n",
       "      <td>0.00</td>\n",
       "      <td>Breast Cancer</td>\n",
       "      <td>569</td>\n",
       "    </tr>\n",
       "    <tr>\n",
       "      <th>1</th>\n",
       "      <td>PNN with L1</td>\n",
       "      <td>0.8</td>\n",
       "      <td>4.9</td>\n",
       "      <td>0.959612</td>\n",
       "      <td>0.37</td>\n",
       "      <td>Breast Cancer</td>\n",
       "      <td>569</td>\n",
       "    </tr>\n",
       "    <tr>\n",
       "      <th>2</th>\n",
       "      <td>PNN with L2</td>\n",
       "      <td>0.8</td>\n",
       "      <td>2.2</td>\n",
       "      <td>0.959612</td>\n",
       "      <td>0.37</td>\n",
       "      <td>Breast Cancer</td>\n",
       "      <td>569</td>\n",
       "    </tr>\n",
       "    <tr>\n",
       "      <th>3</th>\n",
       "      <td>PNN</td>\n",
       "      <td>0.5</td>\n",
       "      <td>NaN</td>\n",
       "      <td>0.954840</td>\n",
       "      <td>0.00</td>\n",
       "      <td>Suspicious firms</td>\n",
       "      <td>775</td>\n",
       "    </tr>\n",
       "    <tr>\n",
       "      <th>4</th>\n",
       "      <td>PNN with L1</td>\n",
       "      <td>0.5</td>\n",
       "      <td>1.6</td>\n",
       "      <td>0.936797</td>\n",
       "      <td>-1.89</td>\n",
       "      <td>Suspicious firms</td>\n",
       "      <td>775</td>\n",
       "    </tr>\n",
       "    <tr>\n",
       "      <th>5</th>\n",
       "      <td>PNN with L2</td>\n",
       "      <td>0.5</td>\n",
       "      <td>3.2</td>\n",
       "      <td>0.936797</td>\n",
       "      <td>-1.89</td>\n",
       "      <td>Suspicious firms</td>\n",
       "      <td>775</td>\n",
       "    </tr>\n",
       "    <tr>\n",
       "      <th>6</th>\n",
       "      <td>GRNN</td>\n",
       "      <td>1.0</td>\n",
       "      <td>NaN</td>\n",
       "      <td>3219.348204</td>\n",
       "      <td>0.00</td>\n",
       "      <td>Diabetes</td>\n",
       "      <td>442</td>\n",
       "    </tr>\n",
       "    <tr>\n",
       "      <th>7</th>\n",
       "      <td>GRNN with L1</td>\n",
       "      <td>1.0</td>\n",
       "      <td>4.0</td>\n",
       "      <td>3091.181332</td>\n",
       "      <td>4.15</td>\n",
       "      <td>Diabetes</td>\n",
       "      <td>442</td>\n",
       "    </tr>\n",
       "    <tr>\n",
       "      <th>8</th>\n",
       "      <td>GRNN with L2</td>\n",
       "      <td>1.0</td>\n",
       "      <td>3.0</td>\n",
       "      <td>3101.525256</td>\n",
       "      <td>3.80</td>\n",
       "      <td>Diabetes</td>\n",
       "      <td>442</td>\n",
       "    </tr>\n",
       "    <tr>\n",
       "      <th>9</th>\n",
       "      <td>GRNN</td>\n",
       "      <td>0.6</td>\n",
       "      <td>NaN</td>\n",
       "      <td>142.183214</td>\n",
       "      <td>0.00</td>\n",
       "      <td>Concrete Compressive Strength</td>\n",
       "      <td>1030</td>\n",
       "    </tr>\n",
       "    <tr>\n",
       "      <th>10</th>\n",
       "      <td>GRNN with L1</td>\n",
       "      <td>0.6</td>\n",
       "      <td>1.3</td>\n",
       "      <td>135.971447</td>\n",
       "      <td>4.57</td>\n",
       "      <td>Concrete Compressive Strength</td>\n",
       "      <td>1030</td>\n",
       "    </tr>\n",
       "    <tr>\n",
       "      <th>11</th>\n",
       "      <td>GRNN with L2</td>\n",
       "      <td>0.6</td>\n",
       "      <td>3.1</td>\n",
       "      <td>136.932485</td>\n",
       "      <td>3.83</td>\n",
       "      <td>Concrete Compressive Strength</td>\n",
       "      <td>1030</td>\n",
       "    </tr>\n",
       "    <tr>\n",
       "      <th>12</th>\n",
       "      <td>GRNN</td>\n",
       "      <td>5.0</td>\n",
       "      <td>NaN</td>\n",
       "      <td>6.777578</td>\n",
       "      <td>0.00</td>\n",
       "      <td>Stock portfolio performance</td>\n",
       "      <td>315</td>\n",
       "    </tr>\n",
       "    <tr>\n",
       "      <th>13</th>\n",
       "      <td>GRNN with L1</td>\n",
       "      <td>5.0</td>\n",
       "      <td>4.8</td>\n",
       "      <td>6.232009</td>\n",
       "      <td>8.75</td>\n",
       "      <td>Stock portfolio performance</td>\n",
       "      <td>315</td>\n",
       "    </tr>\n",
       "    <tr>\n",
       "      <th>14</th>\n",
       "      <td>GRNN with L2</td>\n",
       "      <td>5.0</td>\n",
       "      <td>3.2</td>\n",
       "      <td>6.243142</td>\n",
       "      <td>8.56</td>\n",
       "      <td>Stock portfolio performance</td>\n",
       "      <td>315</td>\n",
       "    </tr>\n",
       "    <tr>\n",
       "      <th>15</th>\n",
       "      <td>PNN</td>\n",
       "      <td>0.6</td>\n",
       "      <td>NaN</td>\n",
       "      <td>0.953846</td>\n",
       "      <td>0.00</td>\n",
       "      <td>Parkinsons</td>\n",
       "      <td>195</td>\n",
       "    </tr>\n",
       "    <tr>\n",
       "      <th>16</th>\n",
       "      <td>PNN with L1</td>\n",
       "      <td>0.6</td>\n",
       "      <td>1.5</td>\n",
       "      <td>0.948718</td>\n",
       "      <td>-0.54</td>\n",
       "      <td>Parkinsons</td>\n",
       "      <td>195</td>\n",
       "    </tr>\n",
       "    <tr>\n",
       "      <th>17</th>\n",
       "      <td>PNN with L2</td>\n",
       "      <td>0.6</td>\n",
       "      <td>1.9</td>\n",
       "      <td>0.958974</td>\n",
       "      <td>0.54</td>\n",
       "      <td>Parkinsons</td>\n",
       "      <td>195</td>\n",
       "    </tr>\n",
       "  </tbody>\n",
       "</table>\n",
       "</div>"
      ],
      "text/plain": [
       "           Model  Best Sigma  Best Tau        Score  Impovement %  \\\n",
       "0            PNN         0.8       NaN     0.956094          0.00   \n",
       "1    PNN with L1         0.8       4.9     0.959612          0.37   \n",
       "2    PNN with L2         0.8       2.2     0.959612          0.37   \n",
       "3            PNN         0.5       NaN     0.954840          0.00   \n",
       "4    PNN with L1         0.5       1.6     0.936797         -1.89   \n",
       "5    PNN with L2         0.5       3.2     0.936797         -1.89   \n",
       "6           GRNN         1.0       NaN  3219.348204          0.00   \n",
       "7   GRNN with L1         1.0       4.0  3091.181332          4.15   \n",
       "8   GRNN with L2         1.0       3.0  3101.525256          3.80   \n",
       "9           GRNN         0.6       NaN   142.183214          0.00   \n",
       "10  GRNN with L1         0.6       1.3   135.971447          4.57   \n",
       "11  GRNN with L2         0.6       3.1   136.932485          3.83   \n",
       "12          GRNN         5.0       NaN     6.777578          0.00   \n",
       "13  GRNN with L1         5.0       4.8     6.232009          8.75   \n",
       "14  GRNN with L2         5.0       3.2     6.243142          8.56   \n",
       "15           PNN         0.6       NaN     0.953846          0.00   \n",
       "16   PNN with L1         0.6       1.5     0.948718         -0.54   \n",
       "17   PNN with L2         0.6       1.9     0.958974          0.54   \n",
       "\n",
       "                          Dataset  Instances  \n",
       "0                   Breast Cancer        569  \n",
       "1                   Breast Cancer        569  \n",
       "2                   Breast Cancer        569  \n",
       "3                Suspicious firms        775  \n",
       "4                Suspicious firms        775  \n",
       "5                Suspicious firms        775  \n",
       "6                        Diabetes        442  \n",
       "7                        Diabetes        442  \n",
       "8                        Diabetes        442  \n",
       "9   Concrete Compressive Strength       1030  \n",
       "10  Concrete Compressive Strength       1030  \n",
       "11  Concrete Compressive Strength       1030  \n",
       "12    Stock portfolio performance        315  \n",
       "13    Stock portfolio performance        315  \n",
       "14    Stock portfolio performance        315  \n",
       "15                     Parkinsons        195  \n",
       "16                     Parkinsons        195  \n",
       "17                     Parkinsons        195  "
      ]
     },
     "execution_count": 90,
     "metadata": {},
     "output_type": "execute_result"
    }
   ],
   "source": [
    "combined_df"
   ]
  },
  {
   "cell_type": "code",
   "execution_count": 95,
   "id": "d39ddf06-dd97-4351-a5fe-210f5915c882",
   "metadata": {},
   "outputs": [],
   "source": [
    "results = []\n",
    "\n",
    "for dataset in combined_df['Dataset'].unique():\n",
    "    df_dataset = combined_df[combined_df['Dataset'] == dataset]\n",
    "    \n",
    "    for model_type in ['PNN', 'GRNN']:\n",
    "        base = df_dataset[df_dataset['Model'] == model_type]\n",
    "        with_l1 = df_dataset[df_dataset['Model'] == f'{model_type} with L1']\n",
    "        with_l2 = df_dataset[df_dataset['Model'] == f'{model_type} with L2']\n",
    "        \n",
    "        if base.empty:\n",
    "            continue\n",
    "\n",
    "        score_metric = 'Accuracy' if model_type == 'PNN' else 'MSE'\n",
    "\n",
    "        row = {\n",
    "            'Dataset': dataset,\n",
    "            'Score metric': score_metric,\n",
    "            'Best Sigma': base['Best Sigma'].values[0],\n",
    "            'Score Base': base['Score'].values[0],  # PNN/GRNN базовый скор\n",
    "            'Best tau (L1)': with_l1['Best Tau'].values[0] if not with_l1.empty else None,\n",
    "            'Score L1': with_l1['Score'].values[0] if not with_l1.empty else None,\n",
    "            'Impovement % (L1)': with_l1['Impovement %'].values[0] if not with_l1.empty else None,\n",
    "            'Best tau (L2)': with_l2['Best Tau'].values[0] if not with_l2.empty else None,\n",
    "            'Score L2': with_l2['Score'].values[0] if not with_l2.empty else None,\n",
    "            'Impovement % (L2)': with_l2['Impovement %'].values[0] if not with_l2.empty else None,\n",
    "            'Instances': base['Instances'].values[0]\n",
    "        }\n",
    "        \n",
    "        results.append(row)\n",
    "\n",
    "final_df = pd.DataFrame(results)"
   ]
  },
  {
   "cell_type": "code",
   "execution_count": 103,
   "id": "73d1a3d4-a562-4dd0-8f89-5abe14810d9c",
   "metadata": {},
   "outputs": [],
   "source": [
    "final_df = final_df.drop(columns=['Score metric'])"
   ]
  },
  {
   "cell_type": "code",
   "execution_count": 107,
   "id": "92d98a55-83b9-4492-bf32-e4677d925d1a",
   "metadata": {},
   "outputs": [
    {
     "name": "stdout",
     "output_type": "stream",
     "text": [
      "\\begin{tabular}{lrrrrrrrrr}\n",
      "\\toprule\n",
      "Dataset & Best Sigma & Score Base & Best tau (L1) & Score L1 & Impovement % (L1) & Best tau (L2) & Score L2 & Impovement % (L2) & Instances \\\\\n",
      "\\midrule\n",
      "Breast Cancer & 0.8 & 0.956 & 4.9 & 0.960 & 0.37 & 2.2 & 0.960 & 0.37 & 569 \\\\\n",
      "Suspicious firms & 0.5 & 0.955 & 1.6 & 0.937 & -1.89 & 3.2 & 0.937 & -1.89 & 775 \\\\\n",
      "Diabetes & 1.0 & 3219.348 & 4.0 & 3091.181 & 4.15 & 3.0 & 3101.525 & 3.80 & 442 \\\\\n",
      "Concrete Compressive Strength & 0.6 & 142.183 & 1.3 & 135.971 & 4.57 & 3.1 & 136.932 & 3.83 & 1030 \\\\\n",
      "Stock portfolio performance & 5.0 & 6.778 & 4.8 & 6.232 & 8.75 & 3.2 & 6.243 & 8.56 & 315 \\\\\n",
      "Parkinsons & 0.6 & 0.954 & 1.5 & 0.949 & -0.54 & 1.9 & 0.959 & 0.54 & 195 \\\\\n",
      "\\bottomrule\n",
      "\\end{tabular}\n",
      "\n"
     ]
    }
   ],
   "source": [
    "latex_table = final_df.to_latex(\n",
    "    index=False,\n",
    "    escape=False,\n",
    "    formatters={\n",
    "        'Best Sigma': '{:.1f}'.format,\n",
    "        'Best tau (L1)': '{:.1f}'.format,\n",
    "        'Best tau (L2)': '{:.1f}'.format,\n",
    "        'Score Base': '{:.3f}'.format,\n",
    "        'Score L1': '{:.3f}'.format,\n",
    "        'Score L2': '{:.3f}'.format,\n",
    "        'Impovement % (L1)': '{:.2f}'.format,\n",
    "        'Impovement % (L2)': '{:.2f}'.format\n",
    "    }\n",
    ")\n",
    "\n",
    "print(latex_table)"
   ]
  },
  {
   "cell_type": "code",
   "execution_count": null,
   "id": "76a01461-f8a3-4dc7-a6c8-d8e82dafb9f9",
   "metadata": {},
   "outputs": [],
   "source": []
  }
 ],
 "metadata": {
  "kernelspec": {
   "display_name": "Python [conda env:base] *",
   "language": "python",
   "name": "conda-base-py"
  },
  "language_info": {
   "codemirror_mode": {
    "name": "ipython",
    "version": 3
   },
   "file_extension": ".py",
   "mimetype": "text/x-python",
   "name": "python",
   "nbconvert_exporter": "python",
   "pygments_lexer": "ipython3",
   "version": "3.12.7"
  }
 },
 "nbformat": 4,
 "nbformat_minor": 5
}
