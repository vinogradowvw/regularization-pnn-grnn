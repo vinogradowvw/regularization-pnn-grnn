{
 "cells": [
  {
   "cell_type": "code",
   "execution_count": 2,
   "id": "c0560cf5-eeec-487b-9eef-8ca6e345106b",
   "metadata": {},
   "outputs": [],
   "source": [
    "import numpy as np\n",
    "import pandas as pd\n",
    "import matplotlib.pyplot as plt\n",
    "from PNN import PNN\n",
    "from GRNN import GRNN\n",
    "from sklearn.model_selection import ParameterGrid\n",
    "from sklearn.model_selection import KFold\n",
    "from sklearn.preprocessing import StandardScaler\n",
    "\n",
    "from sklearn.datasets import load_diabetes, load_digits\n",
    "from sklearn.datasets import fetch_openml\n",
    "from sklearn.model_selection import train_test_split\n",
    "from sklearn.metrics import accuracy_score, mean_squared_error"
   ]
  },
  {
   "cell_type": "markdown",
   "id": "60133c26-0ba7-4725-9d65-e4cb7d89eb82",
   "metadata": {},
   "source": [
    "## Base Functions"
   ]
  },
  {
   "cell_type": "code",
   "execution_count": 4,
   "id": "c571b8aa-ee2d-4d26-92b8-d69ed284a365",
   "metadata": {},
   "outputs": [],
   "source": [
    "def evaluvate_on_kfold(X, y, model):\n",
    "    \n",
    "    if isinstance(model, GRNN):\n",
    "        score_func = mean_squared_error\n",
    "    else:\n",
    "        score_func = accuracy_score\n",
    "        \n",
    "    kf = KFold(n_splits=3)\n",
    "\n",
    "    scores = []\n",
    "    \n",
    "    for i, (train_index, test_index) in enumerate(kf.split(X)):\n",
    "        X_train, y_train = X[train_index], y[train_index]\n",
    "        X_test, y_test = X[test_index], y[test_index]\n",
    "        \n",
    "        model.fit(X_train, y_train)\n",
    "        preds = [model.predict([x_test]) for x_test in X_test]\n",
    "        \n",
    "        scores.append(score_func(y_true=y_test, y_pred=preds))\n",
    "\n",
    "    return np.mean(scores)"
   ]
  },
  {
   "cell_type": "code",
   "execution_count": 5,
   "id": "34127b7c-674e-4b6f-8a94-fd8c39377c33",
   "metadata": {},
   "outputs": [],
   "source": [
    "from sklearn.model_selection import ParameterGrid\n",
    "\n",
    "def grid_search_cv(X, y, model_class, sigma_range, tau_range):\n",
    "    model_configs = [\n",
    "        {\"name\": \"No Regularization\", \"regularization\": None},\n",
    "        {\"name\": \"L1 Dropout Regularization\", \"regularization\": ['dropout', 'l1']},\n",
    "        {\"name\": \"L2 Dropout Regularization\", \"regularization\": ['dropout', 'l2']},\n",
    "        {\"name\": \"L1 Regularization\", \"regularization\": 'l1'},\n",
    "        {\"name\": \"L2 Regularization\", \"regularization\": 'l2'},\n",
    "    ]\n",
    "\n",
    "    score_name = 'MSE' if model_class == GRNN else 'Accuracy'\n",
    "    results = []\n",
    "\n",
    "    for config in model_configs:\n",
    "        print(f\"----- Fitting {config['name']} model -----\")\n",
    "\n",
    "        best_score = float(\"inf\") if model_class == GRNN else 0\n",
    "        best_sigma = None\n",
    "        best_tau = None\n",
    "\n",
    "        if config[\"regularization\"] is None:\n",
    "            param_grid = ParameterGrid({'sigma': sigma_range})\n",
    "        else:\n",
    "            param_grid = ParameterGrid({'sigma': sigma_range, 'tau': tau_range})\n",
    "\n",
    "        for params in param_grid:\n",
    "            sigma = params['sigma']\n",
    "            tau = params.get('tau', None)\n",
    "\n",
    "            if model_class == GRNN:\n",
    "                model = GRNN(kernel=\"gaussian\", sigma=sigma,\n",
    "                             regularization=config[\"regularization\"], tau=tau)\n",
    "            else:\n",
    "                model = PNN(kernel=\"gaussian\", sigma=sigma,\n",
    "                            regularization=config[\"regularization\"], tau=tau,\n",
    "                            n_classes=2, losses=[1]*2)\n",
    "\n",
    "            try:\n",
    "                score = evaluvate_on_kfold(X, y, model)\n",
    "                if (model_class == GRNN and score < best_score) or (model_class != GRNN and score > best_score):\n",
    "                    best_score = score\n",
    "                    best_sigma = sigma\n",
    "                    best_tau = tau\n",
    "            except (ZeroDivisionError, RuntimeError):\n",
    "                continue\n",
    "\n",
    "        results.append({\n",
    "            \"Model\": config[\"name\"],\n",
    "            \"Best Sigma\": best_sigma,\n",
    "            \"Best Tau\": best_tau,\n",
    "            score_name: best_score\n",
    "        })\n",
    "\n",
    "    return results"
   ]
  },
  {
   "cell_type": "markdown",
   "id": "3fd8e801-6c16-41f7-9b96-33178d846010",
   "metadata": {},
   "source": [
    "### GRNN - Diabetes Dataset"
   ]
  },
  {
   "cell_type": "code",
   "execution_count": 7,
   "id": "7e7d5555-1437-45db-b43c-ebc509f11a95",
   "metadata": {},
   "outputs": [],
   "source": [
    "data = load_diabetes()"
   ]
  },
  {
   "cell_type": "code",
   "execution_count": 8,
   "id": "d510fb2c-99d4-481e-9329-c79663c78371",
   "metadata": {},
   "outputs": [],
   "source": [
    "X = data['data']\n",
    "y = data['target']\n",
    "scaler = StandardScaler()\n",
    "X_scaled = scaler.fit_transform(X)"
   ]
  },
  {
   "cell_type": "code",
   "execution_count": 9,
   "id": "44ca90ae-7c60-4c10-bd55-fd5e6538b004",
   "metadata": {
    "scrolled": true
   },
   "outputs": [
    {
     "name": "stdout",
     "output_type": "stream",
     "text": [
      "----- Fitting No Regularization model -----\n",
      "----- Fitting L1 Dropout Regularization model -----\n",
      "----- Fitting L2 Dropout Regularization model -----\n",
      "----- Fitting L1 Regularization model -----\n",
      "----- Fitting L2 Regularization model -----\n"
     ]
    }
   ],
   "source": [
    "results = grid_search_cv(\n",
    "    X, y, GRNN,\n",
    "    tau_range=[round(x * 0.01, 2) for x in range(1, 11)],\n",
    "    sigma_range=[round(x * 0.01, 2) for x in range(1, 11)]\n",
    ")"
   ]
  },
  {
   "cell_type": "code",
   "execution_count": 10,
   "id": "b045adec-b209-42c2-99d3-a240a311b3fb",
   "metadata": {},
   "outputs": [
    {
     "data": {
      "text/html": [
       "<div>\n",
       "<style scoped>\n",
       "    .dataframe tbody tr th:only-of-type {\n",
       "        vertical-align: middle;\n",
       "    }\n",
       "\n",
       "    .dataframe tbody tr th {\n",
       "        vertical-align: top;\n",
       "    }\n",
       "\n",
       "    .dataframe thead th {\n",
       "        text-align: right;\n",
       "    }\n",
       "</style>\n",
       "<table border=\"1\" class=\"dataframe\">\n",
       "  <thead>\n",
       "    <tr style=\"text-align: right;\">\n",
       "      <th></th>\n",
       "      <th>Model</th>\n",
       "      <th>Best Sigma</th>\n",
       "      <th>Best Tau</th>\n",
       "      <th>MSE</th>\n",
       "      <th>Impovement %</th>\n",
       "    </tr>\n",
       "  </thead>\n",
       "  <tbody>\n",
       "    <tr>\n",
       "      <th>0</th>\n",
       "      <td>No Regularization</td>\n",
       "      <td>0.05</td>\n",
       "      <td>NaN</td>\n",
       "      <td>3228.996154</td>\n",
       "      <td>0.00</td>\n",
       "    </tr>\n",
       "    <tr>\n",
       "      <th>1</th>\n",
       "      <td>L1 Dropout Regularization</td>\n",
       "      <td>0.05</td>\n",
       "      <td>0.09</td>\n",
       "      <td>3216.995714</td>\n",
       "      <td>0.37</td>\n",
       "    </tr>\n",
       "    <tr>\n",
       "      <th>2</th>\n",
       "      <td>L2 Dropout Regularization</td>\n",
       "      <td>0.07</td>\n",
       "      <td>0.10</td>\n",
       "      <td>4035.168238</td>\n",
       "      <td>-19.98</td>\n",
       "    </tr>\n",
       "    <tr>\n",
       "      <th>3</th>\n",
       "      <td>L1 Regularization</td>\n",
       "      <td>0.08</td>\n",
       "      <td>0.03</td>\n",
       "      <td>3212.496162</td>\n",
       "      <td>0.51</td>\n",
       "    </tr>\n",
       "    <tr>\n",
       "      <th>4</th>\n",
       "      <td>L2 Regularization</td>\n",
       "      <td>0.06</td>\n",
       "      <td>0.07</td>\n",
       "      <td>3218.981511</td>\n",
       "      <td>0.31</td>\n",
       "    </tr>\n",
       "  </tbody>\n",
       "</table>\n",
       "</div>"
      ],
      "text/plain": [
       "                       Model  Best Sigma  Best Tau          MSE  Impovement %\n",
       "0          No Regularization        0.05       NaN  3228.996154          0.00\n",
       "1  L1 Dropout Regularization        0.05      0.09  3216.995714          0.37\n",
       "2  L2 Dropout Regularization        0.07      0.10  4035.168238        -19.98\n",
       "3          L1 Regularization        0.08      0.03  3212.496162          0.51\n",
       "4          L2 Regularization        0.06      0.07  3218.981511          0.31"
      ]
     },
     "execution_count": 10,
     "metadata": {},
     "output_type": "execute_result"
    }
   ],
   "source": [
    "results_df = pd.DataFrame(results)\n",
    "results_df['Impovement %'] = np.round((results_df['MSE'].iloc[0] / results_df['MSE']) * 100, 2) - 100\n",
    "results_df"
   ]
  },
  {
   "cell_type": "markdown",
   "id": "d6c30f9f-1e6b-4842-8bb4-6369309859e9",
   "metadata": {},
   "source": [
    "### GRNN - Boston Housing"
   ]
  },
  {
   "cell_type": "code",
   "execution_count": 102,
   "id": "279da324-4d35-4498-bf68-ce0e99cef0b9",
   "metadata": {},
   "outputs": [],
   "source": [
    "df = fetch_openml(name=\"boston\", version=1)"
   ]
  },
  {
   "cell_type": "code",
   "execution_count": 104,
   "id": "1a8195f0-3197-4974-ac41-055e83739f41",
   "metadata": {},
   "outputs": [],
   "source": [
    "X = df['data'].astype(np.float64).to_numpy()\n",
    "y = df['target'].astype(np.float64).to_numpy()\n",
    "scaler = StandardScaler()\n",
    "X_scaled = scaler.fit_transform(X)"
   ]
  },
  {
   "cell_type": "code",
   "execution_count": null,
   "id": "5b0337fe-2ade-43ca-b87e-5373e667c8af",
   "metadata": {},
   "outputs": [
    {
     "name": "stdout",
     "output_type": "stream",
     "text": [
      "----- Fitting No Regularization model -----\n",
      "----- Fitting L1 Dropout Regularization model -----\n",
      "----- Fitting L2 Dropout Regularization model -----\n",
      "----- Fitting L1 Regularization model -----\n"
     ]
    }
   ],
   "source": [
    "results = grid_search_cv(X, y, GRNN,\n",
    "                         tau_range=[round(x * 0.1, 2) for x in range(201, 301)],\n",
    "                         sigma_range=[round(x, 2) for x in [i * 0.5 for i in range(20, 31)]])"
   ]
  },
  {
   "cell_type": "code",
   "execution_count": null,
   "id": "8ab7af67-dd76-4ac3-899c-014ecab37811",
   "metadata": {},
   "outputs": [],
   "source": [
    "results_df = pd.DataFrame(results)\n",
    "results_df['Impovement %'] = np.round((results_df['MSE'].iloc[0] / results_df['MSE']) * 100, 2) - 100\n",
    "results_df"
   ]
  },
  {
   "cell_type": "markdown",
   "id": "c17d868d-4cfc-4555-88e2-811d9ef3c19b",
   "metadata": {},
   "source": [
    "### PNN - Adult income classification"
   ]
  },
  {
   "cell_type": "code",
   "execution_count": 15,
   "id": "fcc1e44d-9e04-4ff5-99ce-f9b2579502ac",
   "metadata": {},
   "outputs": [],
   "source": [
    "train = pd.read_csv('./data/adult_income_train.csv').astype(np.float64).sample(600, random_state=30)\n",
    "test = pd.read_csv('./data/adult_income_test.csv').astype(np.float64).sample(150, random_state=30)\n",
    "\n",
    "X_train, X_test = train.drop(columns=['class']).to_numpy(), test.drop(columns=['class']).to_numpy()\n",
    "y_train, y_test = train['class'].to_numpy(), test['class'].to_numpy()\n",
    "\n",
    "scaler = StandardScaler()\n",
    "X_train = scaler.fit_transform(X_train)\n",
    "X_test = scaler.transform(X_test)"
   ]
  },
  {
   "cell_type": "code",
   "execution_count": 16,
   "id": "5cb0917e-153e-40fe-b7e8-a5670a7e323b",
   "metadata": {},
   "outputs": [],
   "source": [
    "model_configs = [\n",
    "    {\"name\": \"No Regularization\", \"regularization\": None},\n",
    "    {\"name\": \"L1 Regularization\", \"regularization\": 'l1'},\n",
    "    {\"name\": \"L2 Regularization\", \"regularization\": 'l2'}\n",
    "]\n",
    "\n",
    "results = []\n",
    "\n",
    "for config in model_configs:\n",
    "\n",
    "    else:\n",
    "        tau_range = [0.1, 0.2, 0.5, 1.0, 2.0, 2.5, 3.0, 3.5, 4.0, 4.5, 5.0, 5.5, 6.0]\n",
    "    \n",
    "    sigma_range = [0.1, 0.25, 0.5, 1.0, 2.0, 3.0, 4.0]\n",
    "    param_grid = {\"sigma\": sigma_range, \"tau\": tau_range}\n",
    "    \n",
    "    best_accuracy = 0\n",
    "    best_params = {}\n",
    "    \n",
    "    for params in ParameterGrid(param_grid):\n",
    "        sigma = params[\"sigma\"]\n",
    "        tau = params[\"tau\"]\n",
    "    \n",
    "        model = PNN(kernel=\"gaussian\", sigma=sigma,\n",
    "                    regularization=config[\"regularization\"],\n",
    "                    tau=tau if config[\"regularization\"] is not None else None,\n",
    "                    n_classes=2, losses=[1]*2)\n",
    "        model.fit(X_train, y_train)\n",
    "\n",
    "        try:\n",
    "            preds = [model.predict([x_test]) for x_test in X_test]\n",
    "            accuracy = accuracy_score(y_test, preds)\n",
    "            if accuracy > best_accuracy:\n",
    "                best_accuracy = accuracy\n",
    "                best_params = {\"sigma\": sigma, \"tau\": tau}\n",
    "        except ZeroDivisionError:\n",
    "            continue\n",
    "\n",
    "\n",
    "    results.append({\n",
    "        \"Model\": config[\"name\"],\n",
    "        \"Best Sigma\": best_params[\"sigma\"],\n",
    "        \"Best Tau\": best_params[\"tau\"],\n",
    "        \"Accuracy\": best_accuracy\n",
    "    })"
   ]
  },
  {
   "cell_type": "code",
   "execution_count": 17,
   "id": "5d2d2639-c202-4588-8c9f-c6311c7d476b",
   "metadata": {},
   "outputs": [
    {
     "data": {
      "text/html": [
       "<div>\n",
       "<style scoped>\n",
       "    .dataframe tbody tr th:only-of-type {\n",
       "        vertical-align: middle;\n",
       "    }\n",
       "\n",
       "    .dataframe tbody tr th {\n",
       "        vertical-align: top;\n",
       "    }\n",
       "\n",
       "    .dataframe thead th {\n",
       "        text-align: right;\n",
       "    }\n",
       "</style>\n",
       "<table border=\"1\" class=\"dataframe\">\n",
       "  <thead>\n",
       "    <tr style=\"text-align: right;\">\n",
       "      <th></th>\n",
       "      <th>Model</th>\n",
       "      <th>Best Sigma</th>\n",
       "      <th>Best Tau</th>\n",
       "      <th>Accuracy</th>\n",
       "      <th>Impovement %</th>\n",
       "    </tr>\n",
       "  </thead>\n",
       "  <tbody>\n",
       "    <tr>\n",
       "      <th>0</th>\n",
       "      <td>No Regularization</td>\n",
       "      <td>0.25</td>\n",
       "      <td>0.1</td>\n",
       "      <td>0.813333</td>\n",
       "      <td>0.00</td>\n",
       "    </tr>\n",
       "    <tr>\n",
       "      <th>1</th>\n",
       "      <td>L1 Regularization</td>\n",
       "      <td>2.00</td>\n",
       "      <td>0.2</td>\n",
       "      <td>0.826667</td>\n",
       "      <td>1.64</td>\n",
       "    </tr>\n",
       "    <tr>\n",
       "      <th>2</th>\n",
       "      <td>L2 Regularization</td>\n",
       "      <td>0.50</td>\n",
       "      <td>1.0</td>\n",
       "      <td>0.820000</td>\n",
       "      <td>0.82</td>\n",
       "    </tr>\n",
       "    <tr>\n",
       "      <th>3</th>\n",
       "      <td>L1 Dropout Regularization</td>\n",
       "      <td>0.50</td>\n",
       "      <td>11.0</td>\n",
       "      <td>0.833333</td>\n",
       "      <td>2.46</td>\n",
       "    </tr>\n",
       "    <tr>\n",
       "      <th>4</th>\n",
       "      <td>L2 Dropout Regularization</td>\n",
       "      <td>0.50</td>\n",
       "      <td>15.0</td>\n",
       "      <td>0.833333</td>\n",
       "      <td>2.46</td>\n",
       "    </tr>\n",
       "  </tbody>\n",
       "</table>\n",
       "</div>"
      ],
      "text/plain": [
       "                       Model  Best Sigma  Best Tau  Accuracy  Impovement %\n",
       "0          No Regularization        0.25       0.1  0.813333          0.00\n",
       "1          L1 Regularization        2.00       0.2  0.826667          1.64\n",
       "2          L2 Regularization        0.50       1.0  0.820000          0.82\n",
       "3  L1 Dropout Regularization        0.50      11.0  0.833333          2.46\n",
       "4  L2 Dropout Regularization        0.50      15.0  0.833333          2.46"
      ]
     },
     "execution_count": 17,
     "metadata": {},
     "output_type": "execute_result"
    }
   ],
   "source": [
    "results_df = pd.DataFrame(results)\n",
    "results_df['Impovement %'] = np.round((results_df['Accuracy'] / results_df['Accuracy'].iloc[0]) * 100, 2) - 100\n",
    "results_df"
   ]
  }
 ],
 "metadata": {
  "kernelspec": {
   "display_name": "Python [conda env:base] *",
   "language": "python",
   "name": "conda-base-py"
  },
  "language_info": {
   "codemirror_mode": {
    "name": "ipython",
    "version": 3
   },
   "file_extension": ".py",
   "mimetype": "text/x-python",
   "name": "python",
   "nbconvert_exporter": "python",
   "pygments_lexer": "ipython3",
   "version": "3.12.7"
  }
 },
 "nbformat": 4,
 "nbformat_minor": 5
}
